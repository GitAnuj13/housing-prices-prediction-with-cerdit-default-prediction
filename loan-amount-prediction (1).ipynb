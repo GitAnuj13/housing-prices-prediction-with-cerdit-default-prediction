{
 "cells": [
  {
   "cell_type": "markdown",
   "metadata": {
    "papermill": {
     "duration": 0.048098,
     "end_time": "2023-07-14T16:47:02.982362",
     "exception": false,
     "start_time": "2023-07-14T16:47:02.934264",
     "status": "completed"
    },
    "tags": []
   },
   "source": [
    "# Import Packages"
   ]
  },
  {
   "cell_type": "code",
   "execution_count": 5,
   "metadata": {
    "execution": {
     "iopub.execute_input": "2023-07-14T16:47:03.083560Z",
     "iopub.status.busy": "2023-07-14T16:47:03.082791Z",
     "iopub.status.idle": "2023-07-14T16:47:03.088180Z",
     "shell.execute_reply": "2023-07-14T16:47:03.088721Z",
     "shell.execute_reply.started": "2023-07-14T16:39:01.780878Z"
    },
    "papermill": {
     "duration": 0.055342,
     "end_time": "2023-07-14T16:47:03.088915",
     "exception": false,
     "start_time": "2023-07-14T16:47:03.033573",
     "status": "completed"
    },
    "tags": []
   },
   "outputs": [],
   "source": [
    "import numpy as np # linear algebra\n",
    "import pandas as pd # data processing, CSV file I/O (e.g. pd.read_csv)"
   ]
  },
  {
   "cell_type": "code",
   "execution_count": null,
   "metadata": {
    "_cell_guid": "b1076dfc-b9ad-4769-8c92-a6c4dae69d19",
    "_uuid": "8f2839f25d086af736a60e9eeb907d3b93b6e0e5",
    "execution": {
     "iopub.execute_input": "2023-07-14T16:47:03.188767Z",
     "iopub.status.busy": "2023-07-14T16:47:03.187902Z",
     "iopub.status.idle": "2023-07-14T16:47:03.197609Z",
     "shell.execute_reply": "2023-07-14T16:47:03.196902Z",
     "shell.execute_reply.started": "2023-07-14T16:39:01.796420Z"
    },
    "papermill": {
     "duration": 0.062804,
     "end_time": "2023-07-14T16:47:03.197745",
     "exception": false,
     "start_time": "2023-07-14T16:47:03.134941",
     "status": "completed"
    },
    "tags": []
   },
   "outputs": [],
   "source": []
  },
  {
   "cell_type": "markdown",
   "metadata": {
    "papermill": {
     "duration": 0.046906,
     "end_time": "2023-07-14T16:47:03.292363",
     "exception": false,
     "start_time": "2023-07-14T16:47:03.245457",
     "status": "completed"
    },
    "tags": []
   },
   "source": [
    " You can load this data with the `read_csv()` method from `pandas` package. It converts the data set to a python dataframe."
   ]
  },
  {
   "cell_type": "markdown",
   "metadata": {
    "papermill": {
     "duration": 0.052082,
     "end_time": "2023-07-14T16:47:03.405450",
     "exception": false,
     "start_time": "2023-07-14T16:47:03.353368",
     "status": "completed"
    },
    "tags": []
   },
   "source": [
    "\n",
    "## Dataset Key Information.\n",
    "  \n",
    "---  \n",
    "  \n",
    "> - `Loan_ID`--------------> Unique Loan ID.\n",
    "- `Gender`   --------------> Male/ Female \n",
    "- `Married`  --------------> Applicant married (Y/N) \n",
    "- `Dependents` ------------> Number of dependents \n",
    "- `Education` -------------> Applicant Education (Graduate/ Under Graduate) \n",
    "- `Self_Employed` ---------> Self-employed (Y/N) \n",
    "- `ApplicantIncome` -------> Applicant income \n",
    "- `CoapplicantIncome` -----> Coapplicant income \n",
    "- `LoanAmount`  -----------> Loan amount in thousands \n",
    "- `Loan_Amount_Term` ------> Term of a loan in months \n",
    "- `Credit_History` --------> Credit history meets guidelines \n",
    "- `Property_Area` ---------> Urban/ Semi-Urban/ Rural \n",
    "- `Loan_Status` -----------> Loan approved (Y/N) "
   ]
  },
  {
   "cell_type": "markdown",
   "metadata": {
    "papermill": {
     "duration": 0.051927,
     "end_time": "2023-07-14T16:47:03.506352",
     "exception": false,
     "start_time": "2023-07-14T16:47:03.454425",
     "status": "completed"
    },
    "tags": []
   },
   "source": [
    "<a id=\"1\"></a><br>\n",
    "# 1. Gathering Data"
   ]
  },
  {
   "cell_type": "code",
   "execution_count": 80,
   "metadata": {
    "_cell_guid": "79c7e3d0-c299-4dcb-8224-4455121ee9b0",
    "_uuid": "d629ff2d2480ee46fbb7e2d37f6b5fab8052498a",
    "execution": {
     "iopub.execute_input": "2023-07-14T16:47:03.611326Z",
     "iopub.status.busy": "2023-07-14T16:47:03.610132Z",
     "iopub.status.idle": "2023-07-14T16:47:03.635525Z",
     "shell.execute_reply": "2023-07-14T16:47:03.636241Z",
     "shell.execute_reply.started": "2023-07-14T16:39:01.835409Z"
    },
    "papermill": {
     "duration": 0.082782,
     "end_time": "2023-07-14T16:47:03.636423",
     "exception": false,
     "start_time": "2023-07-14T16:47:03.553641",
     "status": "completed"
    },
    "tags": []
   },
   "outputs": [],
   "source": [
    "#  Create New Variable and stores the dataset values as Data Frame\n",
    "\n",
    "loan_train = pd.read_csv('loan-train.csv')\n",
    "loan_test = pd.read_csv('loan-test.csv')"
   ]
  },
  {
   "cell_type": "markdown",
   "metadata": {
    "papermill": {
     "duration": 0.050437,
     "end_time": "2023-07-14T16:47:03.745267",
     "exception": false,
     "start_time": "2023-07-14T16:47:03.694830",
     "status": "completed"
    },
    "tags": []
   },
   "source": [
    "- Lets display the some few information from our large datasets\n",
    "\n",
    "Here, We shows the first five rows from datasets"
   ]
  },
  {
   "cell_type": "code",
   "execution_count": 64,
   "metadata": {
    "execution": {
     "iopub.execute_input": "2023-07-14T16:47:03.844993Z",
     "iopub.status.busy": "2023-07-14T16:47:03.843900Z",
     "iopub.status.idle": "2023-07-14T16:47:03.876084Z",
     "shell.execute_reply": "2023-07-14T16:47:03.876753Z",
     "shell.execute_reply.started": "2023-07-14T16:39:01.868762Z"
    },
    "papermill": {
     "duration": 0.084105,
     "end_time": "2023-07-14T16:47:03.876912",
     "exception": false,
     "start_time": "2023-07-14T16:47:03.792807",
     "status": "completed"
    },
    "tags": []
   },
   "outputs": [
    {
     "data": {
      "text/html": [
       "<div>\n",
       "<style scoped>\n",
       "    .dataframe tbody tr th:only-of-type {\n",
       "        vertical-align: middle;\n",
       "    }\n",
       "\n",
       "    .dataframe tbody tr th {\n",
       "        vertical-align: top;\n",
       "    }\n",
       "\n",
       "    .dataframe thead th {\n",
       "        text-align: right;\n",
       "    }\n",
       "</style>\n",
       "<table border=\"1\" class=\"dataframe\">\n",
       "  <thead>\n",
       "    <tr style=\"text-align: right;\">\n",
       "      <th></th>\n",
       "      <th>Loan_ID</th>\n",
       "      <th>Gender</th>\n",
       "      <th>Married</th>\n",
       "      <th>Dependents</th>\n",
       "      <th>Education</th>\n",
       "      <th>Self_Employed</th>\n",
       "      <th>ApplicantIncome</th>\n",
       "      <th>CoapplicantIncome</th>\n",
       "      <th>LoanAmount</th>\n",
       "      <th>Loan_Amount_Term</th>\n",
       "      <th>Credit_History</th>\n",
       "      <th>Property_Area</th>\n",
       "      <th>Loan_Status</th>\n",
       "    </tr>\n",
       "  </thead>\n",
       "  <tbody>\n",
       "    <tr>\n",
       "      <th>609</th>\n",
       "      <td>LP002978</td>\n",
       "      <td>0.0</td>\n",
       "      <td>0.0</td>\n",
       "      <td>0</td>\n",
       "      <td>0</td>\n",
       "      <td>0.0</td>\n",
       "      <td>2900</td>\n",
       "      <td>0.0</td>\n",
       "      <td>71.0</td>\n",
       "      <td>360.0</td>\n",
       "      <td>1.0</td>\n",
       "      <td>0</td>\n",
       "      <td>1</td>\n",
       "    </tr>\n",
       "    <tr>\n",
       "      <th>610</th>\n",
       "      <td>LP002979</td>\n",
       "      <td>1.0</td>\n",
       "      <td>1.0</td>\n",
       "      <td>3</td>\n",
       "      <td>0</td>\n",
       "      <td>0.0</td>\n",
       "      <td>4106</td>\n",
       "      <td>0.0</td>\n",
       "      <td>40.0</td>\n",
       "      <td>180.0</td>\n",
       "      <td>1.0</td>\n",
       "      <td>0</td>\n",
       "      <td>1</td>\n",
       "    </tr>\n",
       "    <tr>\n",
       "      <th>611</th>\n",
       "      <td>LP002983</td>\n",
       "      <td>1.0</td>\n",
       "      <td>1.0</td>\n",
       "      <td>1</td>\n",
       "      <td>0</td>\n",
       "      <td>0.0</td>\n",
       "      <td>8072</td>\n",
       "      <td>240.0</td>\n",
       "      <td>253.0</td>\n",
       "      <td>360.0</td>\n",
       "      <td>1.0</td>\n",
       "      <td>2</td>\n",
       "      <td>1</td>\n",
       "    </tr>\n",
       "    <tr>\n",
       "      <th>612</th>\n",
       "      <td>LP002984</td>\n",
       "      <td>1.0</td>\n",
       "      <td>1.0</td>\n",
       "      <td>2</td>\n",
       "      <td>0</td>\n",
       "      <td>0.0</td>\n",
       "      <td>7583</td>\n",
       "      <td>0.0</td>\n",
       "      <td>187.0</td>\n",
       "      <td>360.0</td>\n",
       "      <td>1.0</td>\n",
       "      <td>2</td>\n",
       "      <td>1</td>\n",
       "    </tr>\n",
       "    <tr>\n",
       "      <th>613</th>\n",
       "      <td>LP002990</td>\n",
       "      <td>0.0</td>\n",
       "      <td>0.0</td>\n",
       "      <td>0</td>\n",
       "      <td>0</td>\n",
       "      <td>1.0</td>\n",
       "      <td>4583</td>\n",
       "      <td>0.0</td>\n",
       "      <td>133.0</td>\n",
       "      <td>360.0</td>\n",
       "      <td>0.0</td>\n",
       "      <td>1</td>\n",
       "      <td>0</td>\n",
       "    </tr>\n",
       "  </tbody>\n",
       "</table>\n",
       "</div>"
      ],
      "text/plain": [
       "      Loan_ID  Gender  Married  Dependents  Education  Self_Employed  \\\n",
       "609  LP002978     0.0      0.0           0          0            0.0   \n",
       "610  LP002979     1.0      1.0           3          0            0.0   \n",
       "611  LP002983     1.0      1.0           1          0            0.0   \n",
       "612  LP002984     1.0      1.0           2          0            0.0   \n",
       "613  LP002990     0.0      0.0           0          0            1.0   \n",
       "\n",
       "     ApplicantIncome  CoapplicantIncome  LoanAmount  Loan_Amount_Term  \\\n",
       "609             2900                0.0        71.0             360.0   \n",
       "610             4106                0.0        40.0             180.0   \n",
       "611             8072              240.0       253.0             360.0   \n",
       "612             7583                0.0       187.0             360.0   \n",
       "613             4583                0.0       133.0             360.0   \n",
       "\n",
       "     Credit_History  Property_Area  Loan_Status  \n",
       "609             1.0              0            1  \n",
       "610             1.0              0            1  \n",
       "611             1.0              2            1  \n",
       "612             1.0              2            1  \n",
       "613             0.0              1            0  "
      ]
     },
     "execution_count": 64,
     "metadata": {},
     "output_type": "execute_result"
    }
   ],
   "source": [
    "loan_train.tail()"
   ]
  },
  {
   "cell_type": "code",
   "execution_count": 8,
   "metadata": {
    "execution": {
     "iopub.execute_input": "2023-07-14T16:47:03.977427Z",
     "iopub.status.busy": "2023-07-14T16:47:03.976340Z",
     "iopub.status.idle": "2023-07-14T16:47:04.009771Z",
     "shell.execute_reply": "2023-07-14T16:47:04.010474Z",
     "shell.execute_reply.started": "2023-07-14T16:39:01.915910Z"
    },
    "papermill": {
     "duration": 0.085775,
     "end_time": "2023-07-14T16:47:04.010659",
     "exception": false,
     "start_time": "2023-07-14T16:47:03.924884",
     "status": "completed"
    },
    "tags": []
   },
   "outputs": [
    {
     "data": {
      "text/html": [
       "<div>\n",
       "<style scoped>\n",
       "    .dataframe tbody tr th:only-of-type {\n",
       "        vertical-align: middle;\n",
       "    }\n",
       "\n",
       "    .dataframe tbody tr th {\n",
       "        vertical-align: top;\n",
       "    }\n",
       "\n",
       "    .dataframe thead th {\n",
       "        text-align: right;\n",
       "    }\n",
       "</style>\n",
       "<table border=\"1\" class=\"dataframe\">\n",
       "  <thead>\n",
       "    <tr style=\"text-align: right;\">\n",
       "      <th></th>\n",
       "      <th>Loan_ID</th>\n",
       "      <th>Gender</th>\n",
       "      <th>Married</th>\n",
       "      <th>Dependents</th>\n",
       "      <th>Education</th>\n",
       "      <th>Self_Employed</th>\n",
       "      <th>ApplicantIncome</th>\n",
       "      <th>CoapplicantIncome</th>\n",
       "      <th>LoanAmount</th>\n",
       "      <th>Loan_Amount_Term</th>\n",
       "      <th>Credit_History</th>\n",
       "      <th>Property_Area</th>\n",
       "      <th>Loan_Status</th>\n",
       "    </tr>\n",
       "  </thead>\n",
       "  <tbody>\n",
       "    <tr>\n",
       "      <th>0</th>\n",
       "      <td>LP001002</td>\n",
       "      <td>Male</td>\n",
       "      <td>No</td>\n",
       "      <td>0</td>\n",
       "      <td>Graduate</td>\n",
       "      <td>No</td>\n",
       "      <td>5849</td>\n",
       "      <td>0.0</td>\n",
       "      <td>NaN</td>\n",
       "      <td>360.0</td>\n",
       "      <td>1.0</td>\n",
       "      <td>Urban</td>\n",
       "      <td>Y</td>\n",
       "    </tr>\n",
       "    <tr>\n",
       "      <th>1</th>\n",
       "      <td>LP001003</td>\n",
       "      <td>Male</td>\n",
       "      <td>Yes</td>\n",
       "      <td>1</td>\n",
       "      <td>Graduate</td>\n",
       "      <td>No</td>\n",
       "      <td>4583</td>\n",
       "      <td>1508.0</td>\n",
       "      <td>128.0</td>\n",
       "      <td>360.0</td>\n",
       "      <td>1.0</td>\n",
       "      <td>Rural</td>\n",
       "      <td>N</td>\n",
       "    </tr>\n",
       "    <tr>\n",
       "      <th>2</th>\n",
       "      <td>LP001005</td>\n",
       "      <td>Male</td>\n",
       "      <td>Yes</td>\n",
       "      <td>0</td>\n",
       "      <td>Graduate</td>\n",
       "      <td>Yes</td>\n",
       "      <td>3000</td>\n",
       "      <td>0.0</td>\n",
       "      <td>66.0</td>\n",
       "      <td>360.0</td>\n",
       "      <td>1.0</td>\n",
       "      <td>Urban</td>\n",
       "      <td>Y</td>\n",
       "    </tr>\n",
       "    <tr>\n",
       "      <th>3</th>\n",
       "      <td>LP001006</td>\n",
       "      <td>Male</td>\n",
       "      <td>Yes</td>\n",
       "      <td>0</td>\n",
       "      <td>Not Graduate</td>\n",
       "      <td>No</td>\n",
       "      <td>2583</td>\n",
       "      <td>2358.0</td>\n",
       "      <td>120.0</td>\n",
       "      <td>360.0</td>\n",
       "      <td>1.0</td>\n",
       "      <td>Urban</td>\n",
       "      <td>Y</td>\n",
       "    </tr>\n",
       "    <tr>\n",
       "      <th>4</th>\n",
       "      <td>LP001008</td>\n",
       "      <td>Male</td>\n",
       "      <td>No</td>\n",
       "      <td>0</td>\n",
       "      <td>Graduate</td>\n",
       "      <td>No</td>\n",
       "      <td>6000</td>\n",
       "      <td>0.0</td>\n",
       "      <td>141.0</td>\n",
       "      <td>360.0</td>\n",
       "      <td>1.0</td>\n",
       "      <td>Urban</td>\n",
       "      <td>Y</td>\n",
       "    </tr>\n",
       "    <tr>\n",
       "      <th>...</th>\n",
       "      <td>...</td>\n",
       "      <td>...</td>\n",
       "      <td>...</td>\n",
       "      <td>...</td>\n",
       "      <td>...</td>\n",
       "      <td>...</td>\n",
       "      <td>...</td>\n",
       "      <td>...</td>\n",
       "      <td>...</td>\n",
       "      <td>...</td>\n",
       "      <td>...</td>\n",
       "      <td>...</td>\n",
       "      <td>...</td>\n",
       "    </tr>\n",
       "    <tr>\n",
       "      <th>609</th>\n",
       "      <td>LP002978</td>\n",
       "      <td>Female</td>\n",
       "      <td>No</td>\n",
       "      <td>0</td>\n",
       "      <td>Graduate</td>\n",
       "      <td>No</td>\n",
       "      <td>2900</td>\n",
       "      <td>0.0</td>\n",
       "      <td>71.0</td>\n",
       "      <td>360.0</td>\n",
       "      <td>1.0</td>\n",
       "      <td>Rural</td>\n",
       "      <td>Y</td>\n",
       "    </tr>\n",
       "    <tr>\n",
       "      <th>610</th>\n",
       "      <td>LP002979</td>\n",
       "      <td>Male</td>\n",
       "      <td>Yes</td>\n",
       "      <td>3+</td>\n",
       "      <td>Graduate</td>\n",
       "      <td>No</td>\n",
       "      <td>4106</td>\n",
       "      <td>0.0</td>\n",
       "      <td>40.0</td>\n",
       "      <td>180.0</td>\n",
       "      <td>1.0</td>\n",
       "      <td>Rural</td>\n",
       "      <td>Y</td>\n",
       "    </tr>\n",
       "    <tr>\n",
       "      <th>611</th>\n",
       "      <td>LP002983</td>\n",
       "      <td>Male</td>\n",
       "      <td>Yes</td>\n",
       "      <td>1</td>\n",
       "      <td>Graduate</td>\n",
       "      <td>No</td>\n",
       "      <td>8072</td>\n",
       "      <td>240.0</td>\n",
       "      <td>253.0</td>\n",
       "      <td>360.0</td>\n",
       "      <td>1.0</td>\n",
       "      <td>Urban</td>\n",
       "      <td>Y</td>\n",
       "    </tr>\n",
       "    <tr>\n",
       "      <th>612</th>\n",
       "      <td>LP002984</td>\n",
       "      <td>Male</td>\n",
       "      <td>Yes</td>\n",
       "      <td>2</td>\n",
       "      <td>Graduate</td>\n",
       "      <td>No</td>\n",
       "      <td>7583</td>\n",
       "      <td>0.0</td>\n",
       "      <td>187.0</td>\n",
       "      <td>360.0</td>\n",
       "      <td>1.0</td>\n",
       "      <td>Urban</td>\n",
       "      <td>Y</td>\n",
       "    </tr>\n",
       "    <tr>\n",
       "      <th>613</th>\n",
       "      <td>LP002990</td>\n",
       "      <td>Female</td>\n",
       "      <td>No</td>\n",
       "      <td>0</td>\n",
       "      <td>Graduate</td>\n",
       "      <td>Yes</td>\n",
       "      <td>4583</td>\n",
       "      <td>0.0</td>\n",
       "      <td>133.0</td>\n",
       "      <td>360.0</td>\n",
       "      <td>0.0</td>\n",
       "      <td>Semiurban</td>\n",
       "      <td>N</td>\n",
       "    </tr>\n",
       "  </tbody>\n",
       "</table>\n",
       "<p>614 rows × 13 columns</p>\n",
       "</div>"
      ],
      "text/plain": [
       "      Loan_ID  Gender Married Dependents     Education Self_Employed  \\\n",
       "0    LP001002    Male      No          0      Graduate            No   \n",
       "1    LP001003    Male     Yes          1      Graduate            No   \n",
       "2    LP001005    Male     Yes          0      Graduate           Yes   \n",
       "3    LP001006    Male     Yes          0  Not Graduate            No   \n",
       "4    LP001008    Male      No          0      Graduate            No   \n",
       "..        ...     ...     ...        ...           ...           ...   \n",
       "609  LP002978  Female      No          0      Graduate            No   \n",
       "610  LP002979    Male     Yes         3+      Graduate            No   \n",
       "611  LP002983    Male     Yes          1      Graduate            No   \n",
       "612  LP002984    Male     Yes          2      Graduate            No   \n",
       "613  LP002990  Female      No          0      Graduate           Yes   \n",
       "\n",
       "     ApplicantIncome  CoapplicantIncome  LoanAmount  Loan_Amount_Term  \\\n",
       "0               5849                0.0         NaN             360.0   \n",
       "1               4583             1508.0       128.0             360.0   \n",
       "2               3000                0.0        66.0             360.0   \n",
       "3               2583             2358.0       120.0             360.0   \n",
       "4               6000                0.0       141.0             360.0   \n",
       "..               ...                ...         ...               ...   \n",
       "609             2900                0.0        71.0             360.0   \n",
       "610             4106                0.0        40.0             180.0   \n",
       "611             8072              240.0       253.0             360.0   \n",
       "612             7583                0.0       187.0             360.0   \n",
       "613             4583                0.0       133.0             360.0   \n",
       "\n",
       "     Credit_History Property_Area Loan_Status  \n",
       "0               1.0         Urban           Y  \n",
       "1               1.0         Rural           N  \n",
       "2               1.0         Urban           Y  \n",
       "3               1.0         Urban           Y  \n",
       "4               1.0         Urban           Y  \n",
       "..              ...           ...         ...  \n",
       "609             1.0         Rural           Y  \n",
       "610             1.0         Rural           Y  \n",
       "611             1.0         Urban           Y  \n",
       "612             1.0         Urban           Y  \n",
       "613             0.0     Semiurban           N  \n",
       "\n",
       "[614 rows x 13 columns]"
      ]
     },
     "execution_count": 8,
     "metadata": {},
     "output_type": "execute_result"
    }
   ],
   "source": [
    "loan_train"
   ]
  },
  {
   "cell_type": "code",
   "execution_count": 9,
   "metadata": {
    "execution": {
     "iopub.execute_input": "2023-07-14T16:47:04.113611Z",
     "iopub.status.busy": "2023-07-14T16:47:04.112501Z",
     "iopub.status.idle": "2023-07-14T16:47:04.118749Z",
     "shell.execute_reply": "2023-07-14T16:47:04.119380Z",
     "shell.execute_reply.started": "2023-07-14T16:39:01.964076Z"
    },
    "papermill": {
     "duration": 0.059011,
     "end_time": "2023-07-14T16:47:04.119533",
     "exception": false,
     "start_time": "2023-07-14T16:47:04.060522",
     "status": "completed"
    },
    "tags": []
   },
   "outputs": [
    {
     "name": "stdout",
     "output_type": "stream",
     "text": [
      "Rows:  614\n"
     ]
    }
   ],
   "source": [
    "print(\"Rows: \", len(loan_train))"
   ]
  },
  {
   "cell_type": "code",
   "execution_count": 10,
   "metadata": {
    "execution": {
     "iopub.execute_input": "2023-07-14T16:47:04.222324Z",
     "iopub.status.busy": "2023-07-14T16:47:04.221218Z",
     "iopub.status.idle": "2023-07-14T16:47:04.227360Z",
     "shell.execute_reply": "2023-07-14T16:47:04.228084Z",
     "shell.execute_reply.started": "2023-07-14T16:39:01.980064Z"
    },
    "papermill": {
     "duration": 0.059239,
     "end_time": "2023-07-14T16:47:04.228243",
     "exception": false,
     "start_time": "2023-07-14T16:47:04.169004",
     "status": "completed"
    },
    "tags": []
   },
   "outputs": [
    {
     "name": "stdout",
     "output_type": "stream",
     "text": [
      "Columns:  13\n"
     ]
    }
   ],
   "source": [
    "print(\"Columns: \", len(loan_train.columns))"
   ]
  },
  {
   "cell_type": "code",
   "execution_count": 11,
   "metadata": {
    "execution": {
     "iopub.execute_input": "2023-07-14T16:47:04.332873Z",
     "iopub.status.busy": "2023-07-14T16:47:04.331775Z",
     "iopub.status.idle": "2023-07-14T16:47:04.338258Z",
     "shell.execute_reply": "2023-07-14T16:47:04.338998Z",
     "shell.execute_reply.started": "2023-07-14T16:39:01.991873Z"
    },
    "papermill": {
     "duration": 0.059315,
     "end_time": "2023-07-14T16:47:04.339153",
     "exception": false,
     "start_time": "2023-07-14T16:47:04.279838",
     "status": "completed"
    },
    "tags": []
   },
   "outputs": [
    {
     "name": "stdout",
     "output_type": "stream",
     "text": [
      "Shape :  (614, 13)\n"
     ]
    }
   ],
   "source": [
    "print(\"Shape : \", loan_train.shape)"
   ]
  },
  {
   "cell_type": "code",
   "execution_count": 81,
   "metadata": {},
   "outputs": [],
   "source": [
    "loan_train.ApplicantIncome=round(((loan_train.ApplicantIncome*82)/100000),2)\n",
    "loan_test.ApplicantIncome=(loan_test.ApplicantIncome*82)/100000"
   ]
  },
  {
   "cell_type": "code",
   "execution_count": 82,
   "metadata": {},
   "outputs": [
    {
     "data": {
      "text/html": [
       "<div>\n",
       "<style scoped>\n",
       "    .dataframe tbody tr th:only-of-type {\n",
       "        vertical-align: middle;\n",
       "    }\n",
       "\n",
       "    .dataframe tbody tr th {\n",
       "        vertical-align: top;\n",
       "    }\n",
       "\n",
       "    .dataframe thead th {\n",
       "        text-align: right;\n",
       "    }\n",
       "</style>\n",
       "<table border=\"1\" class=\"dataframe\">\n",
       "  <thead>\n",
       "    <tr style=\"text-align: right;\">\n",
       "      <th></th>\n",
       "      <th>Loan_ID</th>\n",
       "      <th>Gender</th>\n",
       "      <th>Married</th>\n",
       "      <th>Dependents</th>\n",
       "      <th>Education</th>\n",
       "      <th>Self_Employed</th>\n",
       "      <th>ApplicantIncome</th>\n",
       "      <th>CoapplicantIncome</th>\n",
       "      <th>LoanAmount</th>\n",
       "      <th>Loan_Amount_Term</th>\n",
       "      <th>Credit_History</th>\n",
       "      <th>Property_Area</th>\n",
       "      <th>Loan_Status</th>\n",
       "    </tr>\n",
       "  </thead>\n",
       "  <tbody>\n",
       "    <tr>\n",
       "      <th>0</th>\n",
       "      <td>LP001002</td>\n",
       "      <td>Male</td>\n",
       "      <td>No</td>\n",
       "      <td>0</td>\n",
       "      <td>Graduate</td>\n",
       "      <td>No</td>\n",
       "      <td>4.80</td>\n",
       "      <td>0.0</td>\n",
       "      <td>NaN</td>\n",
       "      <td>360.0</td>\n",
       "      <td>1.0</td>\n",
       "      <td>Urban</td>\n",
       "      <td>Y</td>\n",
       "    </tr>\n",
       "    <tr>\n",
       "      <th>1</th>\n",
       "      <td>LP001003</td>\n",
       "      <td>Male</td>\n",
       "      <td>Yes</td>\n",
       "      <td>1</td>\n",
       "      <td>Graduate</td>\n",
       "      <td>No</td>\n",
       "      <td>3.76</td>\n",
       "      <td>1508.0</td>\n",
       "      <td>128.0</td>\n",
       "      <td>360.0</td>\n",
       "      <td>1.0</td>\n",
       "      <td>Rural</td>\n",
       "      <td>N</td>\n",
       "    </tr>\n",
       "    <tr>\n",
       "      <th>2</th>\n",
       "      <td>LP001005</td>\n",
       "      <td>Male</td>\n",
       "      <td>Yes</td>\n",
       "      <td>0</td>\n",
       "      <td>Graduate</td>\n",
       "      <td>Yes</td>\n",
       "      <td>2.46</td>\n",
       "      <td>0.0</td>\n",
       "      <td>66.0</td>\n",
       "      <td>360.0</td>\n",
       "      <td>1.0</td>\n",
       "      <td>Urban</td>\n",
       "      <td>Y</td>\n",
       "    </tr>\n",
       "    <tr>\n",
       "      <th>3</th>\n",
       "      <td>LP001006</td>\n",
       "      <td>Male</td>\n",
       "      <td>Yes</td>\n",
       "      <td>0</td>\n",
       "      <td>Not Graduate</td>\n",
       "      <td>No</td>\n",
       "      <td>2.12</td>\n",
       "      <td>2358.0</td>\n",
       "      <td>120.0</td>\n",
       "      <td>360.0</td>\n",
       "      <td>1.0</td>\n",
       "      <td>Urban</td>\n",
       "      <td>Y</td>\n",
       "    </tr>\n",
       "    <tr>\n",
       "      <th>4</th>\n",
       "      <td>LP001008</td>\n",
       "      <td>Male</td>\n",
       "      <td>No</td>\n",
       "      <td>0</td>\n",
       "      <td>Graduate</td>\n",
       "      <td>No</td>\n",
       "      <td>4.92</td>\n",
       "      <td>0.0</td>\n",
       "      <td>141.0</td>\n",
       "      <td>360.0</td>\n",
       "      <td>1.0</td>\n",
       "      <td>Urban</td>\n",
       "      <td>Y</td>\n",
       "    </tr>\n",
       "    <tr>\n",
       "      <th>...</th>\n",
       "      <td>...</td>\n",
       "      <td>...</td>\n",
       "      <td>...</td>\n",
       "      <td>...</td>\n",
       "      <td>...</td>\n",
       "      <td>...</td>\n",
       "      <td>...</td>\n",
       "      <td>...</td>\n",
       "      <td>...</td>\n",
       "      <td>...</td>\n",
       "      <td>...</td>\n",
       "      <td>...</td>\n",
       "      <td>...</td>\n",
       "    </tr>\n",
       "    <tr>\n",
       "      <th>609</th>\n",
       "      <td>LP002978</td>\n",
       "      <td>Female</td>\n",
       "      <td>No</td>\n",
       "      <td>0</td>\n",
       "      <td>Graduate</td>\n",
       "      <td>No</td>\n",
       "      <td>2.38</td>\n",
       "      <td>0.0</td>\n",
       "      <td>71.0</td>\n",
       "      <td>360.0</td>\n",
       "      <td>1.0</td>\n",
       "      <td>Rural</td>\n",
       "      <td>Y</td>\n",
       "    </tr>\n",
       "    <tr>\n",
       "      <th>610</th>\n",
       "      <td>LP002979</td>\n",
       "      <td>Male</td>\n",
       "      <td>Yes</td>\n",
       "      <td>3+</td>\n",
       "      <td>Graduate</td>\n",
       "      <td>No</td>\n",
       "      <td>3.37</td>\n",
       "      <td>0.0</td>\n",
       "      <td>40.0</td>\n",
       "      <td>180.0</td>\n",
       "      <td>1.0</td>\n",
       "      <td>Rural</td>\n",
       "      <td>Y</td>\n",
       "    </tr>\n",
       "    <tr>\n",
       "      <th>611</th>\n",
       "      <td>LP002983</td>\n",
       "      <td>Male</td>\n",
       "      <td>Yes</td>\n",
       "      <td>1</td>\n",
       "      <td>Graduate</td>\n",
       "      <td>No</td>\n",
       "      <td>6.62</td>\n",
       "      <td>240.0</td>\n",
       "      <td>253.0</td>\n",
       "      <td>360.0</td>\n",
       "      <td>1.0</td>\n",
       "      <td>Urban</td>\n",
       "      <td>Y</td>\n",
       "    </tr>\n",
       "    <tr>\n",
       "      <th>612</th>\n",
       "      <td>LP002984</td>\n",
       "      <td>Male</td>\n",
       "      <td>Yes</td>\n",
       "      <td>2</td>\n",
       "      <td>Graduate</td>\n",
       "      <td>No</td>\n",
       "      <td>6.22</td>\n",
       "      <td>0.0</td>\n",
       "      <td>187.0</td>\n",
       "      <td>360.0</td>\n",
       "      <td>1.0</td>\n",
       "      <td>Urban</td>\n",
       "      <td>Y</td>\n",
       "    </tr>\n",
       "    <tr>\n",
       "      <th>613</th>\n",
       "      <td>LP002990</td>\n",
       "      <td>Female</td>\n",
       "      <td>No</td>\n",
       "      <td>0</td>\n",
       "      <td>Graduate</td>\n",
       "      <td>Yes</td>\n",
       "      <td>3.76</td>\n",
       "      <td>0.0</td>\n",
       "      <td>133.0</td>\n",
       "      <td>360.0</td>\n",
       "      <td>0.0</td>\n",
       "      <td>Semiurban</td>\n",
       "      <td>N</td>\n",
       "    </tr>\n",
       "  </tbody>\n",
       "</table>\n",
       "<p>614 rows × 13 columns</p>\n",
       "</div>"
      ],
      "text/plain": [
       "      Loan_ID  Gender Married Dependents     Education Self_Employed  \\\n",
       "0    LP001002    Male      No          0      Graduate            No   \n",
       "1    LP001003    Male     Yes          1      Graduate            No   \n",
       "2    LP001005    Male     Yes          0      Graduate           Yes   \n",
       "3    LP001006    Male     Yes          0  Not Graduate            No   \n",
       "4    LP001008    Male      No          0      Graduate            No   \n",
       "..        ...     ...     ...        ...           ...           ...   \n",
       "609  LP002978  Female      No          0      Graduate            No   \n",
       "610  LP002979    Male     Yes         3+      Graduate            No   \n",
       "611  LP002983    Male     Yes          1      Graduate            No   \n",
       "612  LP002984    Male     Yes          2      Graduate            No   \n",
       "613  LP002990  Female      No          0      Graduate           Yes   \n",
       "\n",
       "     ApplicantIncome  CoapplicantIncome  LoanAmount  Loan_Amount_Term  \\\n",
       "0               4.80                0.0         NaN             360.0   \n",
       "1               3.76             1508.0       128.0             360.0   \n",
       "2               2.46                0.0        66.0             360.0   \n",
       "3               2.12             2358.0       120.0             360.0   \n",
       "4               4.92                0.0       141.0             360.0   \n",
       "..               ...                ...         ...               ...   \n",
       "609             2.38                0.0        71.0             360.0   \n",
       "610             3.37                0.0        40.0             180.0   \n",
       "611             6.62              240.0       253.0             360.0   \n",
       "612             6.22                0.0       187.0             360.0   \n",
       "613             3.76                0.0       133.0             360.0   \n",
       "\n",
       "     Credit_History Property_Area Loan_Status  \n",
       "0               1.0         Urban           Y  \n",
       "1               1.0         Rural           N  \n",
       "2               1.0         Urban           Y  \n",
       "3               1.0         Urban           Y  \n",
       "4               1.0         Urban           Y  \n",
       "..              ...           ...         ...  \n",
       "609             1.0         Rural           Y  \n",
       "610             1.0         Rural           Y  \n",
       "611             1.0         Urban           Y  \n",
       "612             1.0         Urban           Y  \n",
       "613             0.0     Semiurban           N  \n",
       "\n",
       "[614 rows x 13 columns]"
      ]
     },
     "execution_count": 82,
     "metadata": {},
     "output_type": "execute_result"
    }
   ],
   "source": [
    "loan_train"
   ]
  },
  {
   "cell_type": "code",
   "execution_count": 86,
   "metadata": {},
   "outputs": [],
   "source": [
    "loan_train.LoanAmount=(loan_train.LoanAmount*82)/100\n",
    "loan_test.LoanAmount=(loan_train.LoanAmount*82)/100"
   ]
  },
  {
   "cell_type": "code",
   "execution_count": 87,
   "metadata": {},
   "outputs": [
    {
     "data": {
      "text/html": [
       "<div>\n",
       "<style scoped>\n",
       "    .dataframe tbody tr th:only-of-type {\n",
       "        vertical-align: middle;\n",
       "    }\n",
       "\n",
       "    .dataframe tbody tr th {\n",
       "        vertical-align: top;\n",
       "    }\n",
       "\n",
       "    .dataframe thead th {\n",
       "        text-align: right;\n",
       "    }\n",
       "</style>\n",
       "<table border=\"1\" class=\"dataframe\">\n",
       "  <thead>\n",
       "    <tr style=\"text-align: right;\">\n",
       "      <th></th>\n",
       "      <th>Loan_ID</th>\n",
       "      <th>Gender</th>\n",
       "      <th>Married</th>\n",
       "      <th>Dependents</th>\n",
       "      <th>Education</th>\n",
       "      <th>Self_Employed</th>\n",
       "      <th>ApplicantIncome</th>\n",
       "      <th>CoapplicantIncome</th>\n",
       "      <th>LoanAmount</th>\n",
       "      <th>Loan_Amount_Term</th>\n",
       "      <th>Credit_History</th>\n",
       "      <th>Property_Area</th>\n",
       "      <th>Loan_Status</th>\n",
       "    </tr>\n",
       "  </thead>\n",
       "  <tbody>\n",
       "    <tr>\n",
       "      <th>0</th>\n",
       "      <td>LP001002</td>\n",
       "      <td>Male</td>\n",
       "      <td>No</td>\n",
       "      <td>0</td>\n",
       "      <td>Graduate</td>\n",
       "      <td>No</td>\n",
       "      <td>4.80</td>\n",
       "      <td>0.0</td>\n",
       "      <td>NaN</td>\n",
       "      <td>360.0</td>\n",
       "      <td>1.0</td>\n",
       "      <td>Urban</td>\n",
       "      <td>Y</td>\n",
       "    </tr>\n",
       "    <tr>\n",
       "      <th>1</th>\n",
       "      <td>LP001003</td>\n",
       "      <td>Male</td>\n",
       "      <td>Yes</td>\n",
       "      <td>1</td>\n",
       "      <td>Graduate</td>\n",
       "      <td>No</td>\n",
       "      <td>3.76</td>\n",
       "      <td>1508.0</td>\n",
       "      <td>86.0672</td>\n",
       "      <td>360.0</td>\n",
       "      <td>1.0</td>\n",
       "      <td>Rural</td>\n",
       "      <td>N</td>\n",
       "    </tr>\n",
       "    <tr>\n",
       "      <th>2</th>\n",
       "      <td>LP001005</td>\n",
       "      <td>Male</td>\n",
       "      <td>Yes</td>\n",
       "      <td>0</td>\n",
       "      <td>Graduate</td>\n",
       "      <td>Yes</td>\n",
       "      <td>2.46</td>\n",
       "      <td>0.0</td>\n",
       "      <td>44.3784</td>\n",
       "      <td>360.0</td>\n",
       "      <td>1.0</td>\n",
       "      <td>Urban</td>\n",
       "      <td>Y</td>\n",
       "    </tr>\n",
       "    <tr>\n",
       "      <th>3</th>\n",
       "      <td>LP001006</td>\n",
       "      <td>Male</td>\n",
       "      <td>Yes</td>\n",
       "      <td>0</td>\n",
       "      <td>Not Graduate</td>\n",
       "      <td>No</td>\n",
       "      <td>2.12</td>\n",
       "      <td>2358.0</td>\n",
       "      <td>80.6880</td>\n",
       "      <td>360.0</td>\n",
       "      <td>1.0</td>\n",
       "      <td>Urban</td>\n",
       "      <td>Y</td>\n",
       "    </tr>\n",
       "    <tr>\n",
       "      <th>4</th>\n",
       "      <td>LP001008</td>\n",
       "      <td>Male</td>\n",
       "      <td>No</td>\n",
       "      <td>0</td>\n",
       "      <td>Graduate</td>\n",
       "      <td>No</td>\n",
       "      <td>4.92</td>\n",
       "      <td>0.0</td>\n",
       "      <td>94.8084</td>\n",
       "      <td>360.0</td>\n",
       "      <td>1.0</td>\n",
       "      <td>Urban</td>\n",
       "      <td>Y</td>\n",
       "    </tr>\n",
       "    <tr>\n",
       "      <th>...</th>\n",
       "      <td>...</td>\n",
       "      <td>...</td>\n",
       "      <td>...</td>\n",
       "      <td>...</td>\n",
       "      <td>...</td>\n",
       "      <td>...</td>\n",
       "      <td>...</td>\n",
       "      <td>...</td>\n",
       "      <td>...</td>\n",
       "      <td>...</td>\n",
       "      <td>...</td>\n",
       "      <td>...</td>\n",
       "      <td>...</td>\n",
       "    </tr>\n",
       "    <tr>\n",
       "      <th>609</th>\n",
       "      <td>LP002978</td>\n",
       "      <td>Female</td>\n",
       "      <td>No</td>\n",
       "      <td>0</td>\n",
       "      <td>Graduate</td>\n",
       "      <td>No</td>\n",
       "      <td>2.38</td>\n",
       "      <td>0.0</td>\n",
       "      <td>47.7404</td>\n",
       "      <td>360.0</td>\n",
       "      <td>1.0</td>\n",
       "      <td>Rural</td>\n",
       "      <td>Y</td>\n",
       "    </tr>\n",
       "    <tr>\n",
       "      <th>610</th>\n",
       "      <td>LP002979</td>\n",
       "      <td>Male</td>\n",
       "      <td>Yes</td>\n",
       "      <td>3+</td>\n",
       "      <td>Graduate</td>\n",
       "      <td>No</td>\n",
       "      <td>3.37</td>\n",
       "      <td>0.0</td>\n",
       "      <td>26.8960</td>\n",
       "      <td>180.0</td>\n",
       "      <td>1.0</td>\n",
       "      <td>Rural</td>\n",
       "      <td>Y</td>\n",
       "    </tr>\n",
       "    <tr>\n",
       "      <th>611</th>\n",
       "      <td>LP002983</td>\n",
       "      <td>Male</td>\n",
       "      <td>Yes</td>\n",
       "      <td>1</td>\n",
       "      <td>Graduate</td>\n",
       "      <td>No</td>\n",
       "      <td>6.62</td>\n",
       "      <td>240.0</td>\n",
       "      <td>170.1172</td>\n",
       "      <td>360.0</td>\n",
       "      <td>1.0</td>\n",
       "      <td>Urban</td>\n",
       "      <td>Y</td>\n",
       "    </tr>\n",
       "    <tr>\n",
       "      <th>612</th>\n",
       "      <td>LP002984</td>\n",
       "      <td>Male</td>\n",
       "      <td>Yes</td>\n",
       "      <td>2</td>\n",
       "      <td>Graduate</td>\n",
       "      <td>No</td>\n",
       "      <td>6.22</td>\n",
       "      <td>0.0</td>\n",
       "      <td>125.7388</td>\n",
       "      <td>360.0</td>\n",
       "      <td>1.0</td>\n",
       "      <td>Urban</td>\n",
       "      <td>Y</td>\n",
       "    </tr>\n",
       "    <tr>\n",
       "      <th>613</th>\n",
       "      <td>LP002990</td>\n",
       "      <td>Female</td>\n",
       "      <td>No</td>\n",
       "      <td>0</td>\n",
       "      <td>Graduate</td>\n",
       "      <td>Yes</td>\n",
       "      <td>3.76</td>\n",
       "      <td>0.0</td>\n",
       "      <td>89.4292</td>\n",
       "      <td>360.0</td>\n",
       "      <td>0.0</td>\n",
       "      <td>Semiurban</td>\n",
       "      <td>N</td>\n",
       "    </tr>\n",
       "  </tbody>\n",
       "</table>\n",
       "<p>614 rows × 13 columns</p>\n",
       "</div>"
      ],
      "text/plain": [
       "      Loan_ID  Gender Married Dependents     Education Self_Employed  \\\n",
       "0    LP001002    Male      No          0      Graduate            No   \n",
       "1    LP001003    Male     Yes          1      Graduate            No   \n",
       "2    LP001005    Male     Yes          0      Graduate           Yes   \n",
       "3    LP001006    Male     Yes          0  Not Graduate            No   \n",
       "4    LP001008    Male      No          0      Graduate            No   \n",
       "..        ...     ...     ...        ...           ...           ...   \n",
       "609  LP002978  Female      No          0      Graduate            No   \n",
       "610  LP002979    Male     Yes         3+      Graduate            No   \n",
       "611  LP002983    Male     Yes          1      Graduate            No   \n",
       "612  LP002984    Male     Yes          2      Graduate            No   \n",
       "613  LP002990  Female      No          0      Graduate           Yes   \n",
       "\n",
       "     ApplicantIncome  CoapplicantIncome  LoanAmount  Loan_Amount_Term  \\\n",
       "0               4.80                0.0         NaN             360.0   \n",
       "1               3.76             1508.0     86.0672             360.0   \n",
       "2               2.46                0.0     44.3784             360.0   \n",
       "3               2.12             2358.0     80.6880             360.0   \n",
       "4               4.92                0.0     94.8084             360.0   \n",
       "..               ...                ...         ...               ...   \n",
       "609             2.38                0.0     47.7404             360.0   \n",
       "610             3.37                0.0     26.8960             180.0   \n",
       "611             6.62              240.0    170.1172             360.0   \n",
       "612             6.22                0.0    125.7388             360.0   \n",
       "613             3.76                0.0     89.4292             360.0   \n",
       "\n",
       "     Credit_History Property_Area Loan_Status  \n",
       "0               1.0         Urban           Y  \n",
       "1               1.0         Rural           N  \n",
       "2               1.0         Urban           Y  \n",
       "3               1.0         Urban           Y  \n",
       "4               1.0         Urban           Y  \n",
       "..              ...           ...         ...  \n",
       "609             1.0         Rural           Y  \n",
       "610             1.0         Rural           Y  \n",
       "611             1.0         Urban           Y  \n",
       "612             1.0         Urban           Y  \n",
       "613             0.0     Semiurban           N  \n",
       "\n",
       "[614 rows x 13 columns]"
      ]
     },
     "execution_count": 87,
     "metadata": {},
     "output_type": "execute_result"
    }
   ],
   "source": [
    "loan_train"
   ]
  },
  {
   "cell_type": "code",
   "execution_count": 88,
   "metadata": {
    "execution": {
     "iopub.execute_input": "2023-07-14T16:47:04.442619Z",
     "iopub.status.busy": "2023-07-14T16:47:04.441515Z",
     "iopub.status.idle": "2023-07-14T16:47:04.448185Z",
     "shell.execute_reply": "2023-07-14T16:47:04.448868Z",
     "shell.execute_reply.started": "2023-07-14T16:39:02.006398Z"
    },
    "papermill": {
     "duration": 0.060416,
     "end_time": "2023-07-14T16:47:04.449039",
     "exception": false,
     "start_time": "2023-07-14T16:47:04.388623",
     "status": "completed"
    },
    "tags": []
   },
   "outputs": [
    {
     "data": {
      "text/plain": [
       "Index(['Loan_ID', 'Gender', 'Married', 'Dependents', 'Education',\n",
       "       'Self_Employed', 'ApplicantIncome', 'CoapplicantIncome', 'LoanAmount',\n",
       "       'Loan_Amount_Term', 'Credit_History', 'Property_Area', 'Loan_Status'],\n",
       "      dtype='object')"
      ]
     },
     "execution_count": 88,
     "metadata": {},
     "output_type": "execute_result"
    }
   ],
   "source": [
    "loan_train_columns = loan_train.columns # assign to a variable\n",
    "loan_train_columns # print the list of columns"
   ]
  },
  {
   "cell_type": "code",
   "execution_count": 89,
   "metadata": {
    "execution": {
     "iopub.execute_input": "2023-07-14T16:47:04.553226Z",
     "iopub.status.busy": "2023-07-14T16:47:04.552142Z",
     "iopub.status.idle": "2023-07-14T16:47:04.585919Z",
     "shell.execute_reply": "2023-07-14T16:47:04.586579Z",
     "shell.execute_reply.started": "2023-07-14T16:39:02.023424Z"
    },
    "papermill": {
     "duration": 0.087786,
     "end_time": "2023-07-14T16:47:04.586738",
     "exception": false,
     "start_time": "2023-07-14T16:47:04.498952",
     "status": "completed"
    },
    "tags": []
   },
   "outputs": [
    {
     "data": {
      "text/html": [
       "<div>\n",
       "<style scoped>\n",
       "    .dataframe tbody tr th:only-of-type {\n",
       "        vertical-align: middle;\n",
       "    }\n",
       "\n",
       "    .dataframe tbody tr th {\n",
       "        vertical-align: top;\n",
       "    }\n",
       "\n",
       "    .dataframe thead th {\n",
       "        text-align: right;\n",
       "    }\n",
       "</style>\n",
       "<table border=\"1\" class=\"dataframe\">\n",
       "  <thead>\n",
       "    <tr style=\"text-align: right;\">\n",
       "      <th></th>\n",
       "      <th>ApplicantIncome</th>\n",
       "      <th>CoapplicantIncome</th>\n",
       "      <th>LoanAmount</th>\n",
       "      <th>Loan_Amount_Term</th>\n",
       "      <th>Credit_History</th>\n",
       "    </tr>\n",
       "  </thead>\n",
       "  <tbody>\n",
       "    <tr>\n",
       "      <th>count</th>\n",
       "      <td>614.000000</td>\n",
       "      <td>614.000000</td>\n",
       "      <td>592.000000</td>\n",
       "      <td>600.00000</td>\n",
       "      <td>564.000000</td>\n",
       "    </tr>\n",
       "    <tr>\n",
       "      <th>mean</th>\n",
       "      <td>4.430945</td>\n",
       "      <td>1621.245798</td>\n",
       "      <td>98.447538</td>\n",
       "      <td>342.00000</td>\n",
       "      <td>0.842199</td>\n",
       "    </tr>\n",
       "    <tr>\n",
       "      <th>std</th>\n",
       "      <td>5.009515</td>\n",
       "      <td>2926.248369</td>\n",
       "      <td>57.548917</td>\n",
       "      <td>65.12041</td>\n",
       "      <td>0.364878</td>\n",
       "    </tr>\n",
       "    <tr>\n",
       "      <th>min</th>\n",
       "      <td>0.120000</td>\n",
       "      <td>0.000000</td>\n",
       "      <td>6.051600</td>\n",
       "      <td>12.00000</td>\n",
       "      <td>0.000000</td>\n",
       "    </tr>\n",
       "    <tr>\n",
       "      <th>25%</th>\n",
       "      <td>2.360000</td>\n",
       "      <td>0.000000</td>\n",
       "      <td>67.240000</td>\n",
       "      <td>360.00000</td>\n",
       "      <td>1.000000</td>\n",
       "    </tr>\n",
       "    <tr>\n",
       "      <th>50%</th>\n",
       "      <td>3.130000</td>\n",
       "      <td>1188.500000</td>\n",
       "      <td>86.067200</td>\n",
       "      <td>360.00000</td>\n",
       "      <td>1.000000</td>\n",
       "    </tr>\n",
       "    <tr>\n",
       "      <th>75%</th>\n",
       "      <td>4.755000</td>\n",
       "      <td>2297.250000</td>\n",
       "      <td>112.963200</td>\n",
       "      <td>360.00000</td>\n",
       "      <td>1.000000</td>\n",
       "    </tr>\n",
       "    <tr>\n",
       "      <th>max</th>\n",
       "      <td>66.420000</td>\n",
       "      <td>41667.000000</td>\n",
       "      <td>470.680000</td>\n",
       "      <td>480.00000</td>\n",
       "      <td>1.000000</td>\n",
       "    </tr>\n",
       "  </tbody>\n",
       "</table>\n",
       "</div>"
      ],
      "text/plain": [
       "       ApplicantIncome  CoapplicantIncome  LoanAmount  Loan_Amount_Term  \\\n",
       "count       614.000000         614.000000  592.000000         600.00000   \n",
       "mean          4.430945        1621.245798   98.447538         342.00000   \n",
       "std           5.009515        2926.248369   57.548917          65.12041   \n",
       "min           0.120000           0.000000    6.051600          12.00000   \n",
       "25%           2.360000           0.000000   67.240000         360.00000   \n",
       "50%           3.130000        1188.500000   86.067200         360.00000   \n",
       "75%           4.755000        2297.250000  112.963200         360.00000   \n",
       "max          66.420000       41667.000000  470.680000         480.00000   \n",
       "\n",
       "       Credit_History  \n",
       "count      564.000000  \n",
       "mean         0.842199  \n",
       "std          0.364878  \n",
       "min          0.000000  \n",
       "25%          1.000000  \n",
       "50%          1.000000  \n",
       "75%          1.000000  \n",
       "max          1.000000  "
      ]
     },
     "execution_count": 89,
     "metadata": {},
     "output_type": "execute_result"
    }
   ],
   "source": [
    "loan_train.describe()"
   ]
  },
  {
   "cell_type": "code",
   "execution_count": 90,
   "metadata": {
    "execution": {
     "iopub.execute_input": "2023-07-14T16:47:04.692229Z",
     "iopub.status.busy": "2023-07-14T16:47:04.691133Z",
     "iopub.status.idle": "2023-07-14T16:47:04.708304Z",
     "shell.execute_reply": "2023-07-14T16:47:04.707666Z",
     "shell.execute_reply.started": "2023-07-14T16:39:02.082336Z"
    },
    "papermill": {
     "duration": 0.070999,
     "end_time": "2023-07-14T16:47:04.708455",
     "exception": false,
     "start_time": "2023-07-14T16:47:04.637456",
     "status": "completed"
    },
    "scrolled": true,
    "tags": []
   },
   "outputs": [
    {
     "name": "stdout",
     "output_type": "stream",
     "text": [
      "<class 'pandas.core.frame.DataFrame'>\n",
      "RangeIndex: 614 entries, 0 to 613\n",
      "Data columns (total 13 columns):\n",
      " #   Column             Non-Null Count  Dtype  \n",
      "---  ------             --------------  -----  \n",
      " 0   Loan_ID            614 non-null    object \n",
      " 1   Gender             601 non-null    object \n",
      " 2   Married            611 non-null    object \n",
      " 3   Dependents         599 non-null    object \n",
      " 4   Education          614 non-null    object \n",
      " 5   Self_Employed      582 non-null    object \n",
      " 6   ApplicantIncome    614 non-null    float64\n",
      " 7   CoapplicantIncome  614 non-null    float64\n",
      " 8   LoanAmount         592 non-null    float64\n",
      " 9   Loan_Amount_Term   600 non-null    float64\n",
      " 10  Credit_History     564 non-null    float64\n",
      " 11  Property_Area      614 non-null    object \n",
      " 12  Loan_Status        614 non-null    object \n",
      "dtypes: float64(5), object(8)\n",
      "memory usage: 62.5+ KB\n"
     ]
    }
   ],
   "source": [
    "loan_train.info()\n",
    " "
   ]
  },
  {
   "cell_type": "markdown",
   "metadata": {
    "papermill": {
     "duration": 0.050589,
     "end_time": "2023-07-14T16:47:04.812778",
     "exception": false,
     "start_time": "2023-07-14T16:47:04.762189",
     "status": "completed"
    },
    "tags": []
   },
   "source": [
    "<a id=\"2\"></a><br>\n",
    "# 2. Exploratory Data Analysis\n",
    "\n",
    "In this section, We learn about extra information about data and it's characteristics.\n"
   ]
  },
  {
   "cell_type": "code",
   "execution_count": 91,
   "metadata": {
    "execution": {
     "iopub.execute_input": "2023-07-14T16:47:04.922929Z",
     "iopub.status.busy": "2023-07-14T16:47:04.922165Z",
     "iopub.status.idle": "2023-07-14T16:47:04.925701Z",
     "shell.execute_reply": "2023-07-14T16:47:04.925112Z",
     "shell.execute_reply.started": "2023-07-14T16:39:02.115485Z"
    },
    "papermill": {
     "duration": 0.061548,
     "end_time": "2023-07-14T16:47:04.925835",
     "exception": false,
     "start_time": "2023-07-14T16:47:04.864287",
     "status": "completed"
    },
    "tags": []
   },
   "outputs": [],
   "source": [
    "def explore_object_type(df ,feature_name):\n",
    "    \"\"\"\n",
    "    To know, How many values available in object('categorical') type of features\n",
    "    And Return Categorical values with Count.\n",
    "    \"\"\"    \n",
    "    if df[feature_name].dtype ==  'object':\n",
    "        print(df[feature_name].value_counts())"
   ]
  },
  {
   "cell_type": "code",
   "execution_count": 92,
   "metadata": {
    "execution": {
     "iopub.execute_input": "2023-07-14T16:47:05.036208Z",
     "iopub.status.busy": "2023-07-14T16:47:05.035418Z",
     "iopub.status.idle": "2023-07-14T16:47:05.039184Z",
     "shell.execute_reply": "2023-07-14T16:47:05.038453Z",
     "shell.execute_reply.started": "2023-07-14T16:39:02.134053Z"
    },
    "papermill": {
     "duration": 0.061987,
     "end_time": "2023-07-14T16:47:05.039313",
     "exception": false,
     "start_time": "2023-07-14T16:47:04.977326",
     "status": "completed"
    },
    "tags": []
   },
   "outputs": [
    {
     "name": "stdout",
     "output_type": "stream",
     "text": [
      "Male      489\n",
      "Female    112\n",
      "Name: Gender, dtype: int64\n"
     ]
    }
   ],
   "source": [
    "# Now, Test and Call a function for gender only\n",
    "explore_object_type(loan_train, 'Gender')"
   ]
  },
  {
   "cell_type": "code",
   "execution_count": 93,
   "metadata": {
    "execution": {
     "iopub.execute_input": "2023-07-14T16:47:05.150734Z",
     "iopub.status.busy": "2023-07-14T16:47:05.149960Z",
     "iopub.status.idle": "2023-07-14T16:47:05.170366Z",
     "shell.execute_reply": "2023-07-14T16:47:05.169739Z",
     "shell.execute_reply.started": "2023-07-14T16:39:02.154109Z"
    },
    "papermill": {
     "duration": 0.079972,
     "end_time": "2023-07-14T16:47:05.170511",
     "exception": false,
     "start_time": "2023-07-14T16:47:05.090539",
     "status": "completed"
    },
    "tags": []
   },
   "outputs": [
    {
     "name": "stdout",
     "output_type": "stream",
     "text": [
      "\n",
      "\"Loan_ID's\" Values with count are :\n",
      "LP001002    1\n",
      "LP002328    1\n",
      "LP002305    1\n",
      "LP002308    1\n",
      "LP002314    1\n",
      "           ..\n",
      "LP001692    1\n",
      "LP001693    1\n",
      "LP001698    1\n",
      "LP001699    1\n",
      "LP002990    1\n",
      "Name: Loan_ID, Length: 614, dtype: int64\n",
      "\n",
      "\"Gender's\" Values with count are :\n",
      "Male      489\n",
      "Female    112\n",
      "Name: Gender, dtype: int64\n",
      "\n",
      "\"Married's\" Values with count are :\n",
      "Yes    398\n",
      "No     213\n",
      "Name: Married, dtype: int64\n",
      "\n",
      "\"Dependents's\" Values with count are :\n",
      "0     345\n",
      "1     102\n",
      "2     101\n",
      "3+     51\n",
      "Name: Dependents, dtype: int64\n",
      "\n",
      "\"Education's\" Values with count are :\n",
      "Graduate        480\n",
      "Not Graduate    134\n",
      "Name: Education, dtype: int64\n",
      "\n",
      "\"Self_Employed's\" Values with count are :\n",
      "No     500\n",
      "Yes     82\n",
      "Name: Self_Employed, dtype: int64\n",
      "\n",
      "\"Property_Area's\" Values with count are :\n",
      "Semiurban    233\n",
      "Urban        202\n",
      "Rural        179\n",
      "Name: Property_Area, dtype: int64\n",
      "\n",
      "\"Loan_Status's\" Values with count are :\n",
      "Y    422\n",
      "N    192\n",
      "Name: Loan_Status, dtype: int64\n"
     ]
    }
   ],
   "source": [
    "# Solution is, Do you remember we have variable with name of `loan_train_columns`, Right,  let's use it\n",
    "# 'Loan_ID', 'Gender', 'Married', 'Dependents', 'Education', 'Self_Employed', 'Property_Area', 'Loan_Status'\n",
    "\n",
    "for featureName in loan_train_columns:\n",
    "    if loan_train[featureName].dtype == 'object':\n",
    "        print('\\n\"' + str(featureName) + '\\'s\" Values with count are :')\n",
    "        explore_object_type(loan_train, str(featureName))"
   ]
  },
  {
   "cell_type": "code",
   "execution_count": 94,
   "metadata": {
    "execution": {
     "iopub.execute_input": "2023-07-14T16:47:05.279991Z",
     "iopub.status.busy": "2023-07-14T16:47:05.279194Z",
     "iopub.status.idle": "2023-07-14T16:47:06.269244Z",
     "shell.execute_reply": "2023-07-14T16:47:06.269876Z",
     "shell.execute_reply.started": "2023-07-14T16:39:02.192586Z"
    },
    "papermill": {
     "duration": 1.047441,
     "end_time": "2023-07-14T16:47:06.270086",
     "exception": false,
     "start_time": "2023-07-14T16:47:05.222645",
     "status": "completed"
    },
    "tags": []
   },
   "outputs": [],
   "source": [
    "\n",
    "#import missingno as msno"
   ]
  },
  {
   "cell_type": "code",
   "execution_count": 95,
   "metadata": {
    "execution": {
     "iopub.execute_input": "2023-07-14T16:47:06.391410Z",
     "iopub.status.busy": "2023-07-14T16:47:06.390342Z",
     "iopub.status.idle": "2023-07-14T16:47:06.394468Z",
     "shell.execute_reply": "2023-07-14T16:47:06.395126Z",
     "shell.execute_reply.started": "2023-07-14T16:39:03.336036Z"
    },
    "papermill": {
     "duration": 0.069055,
     "end_time": "2023-07-14T16:47:06.395295",
     "exception": false,
     "start_time": "2023-07-14T16:47:06.326240",
     "status": "completed"
    },
    "tags": []
   },
   "outputs": [
    {
     "data": {
      "text/plain": [
       "Loan_ID               0\n",
       "Gender               13\n",
       "Married               3\n",
       "Dependents           15\n",
       "Education             0\n",
       "Self_Employed        32\n",
       "ApplicantIncome       0\n",
       "CoapplicantIncome     0\n",
       "LoanAmount           22\n",
       "Loan_Amount_Term     14\n",
       "Credit_History       50\n",
       "Property_Area         0\n",
       "Loan_Status           0\n",
       "dtype: int64"
      ]
     },
     "execution_count": 95,
     "metadata": {},
     "output_type": "execute_result"
    }
   ],
   "source": [
    "# list of how many percentage values are missing\n",
    "loan_train\n",
    "\n",
    "loan_train.isna().sum()\n",
    "# round((loan_train.isna().sum() / len(loan_train)) * 100, 2)"
   ]
  },
  {
   "cell_type": "code",
   "execution_count": 96,
   "metadata": {
    "execution": {
     "iopub.execute_input": "2023-07-14T16:47:06.508823Z",
     "iopub.status.busy": "2023-07-14T16:47:06.508048Z",
     "iopub.status.idle": "2023-07-14T16:47:07.523082Z",
     "shell.execute_reply": "2023-07-14T16:47:07.523689Z",
     "shell.execute_reply.started": "2023-07-14T16:39:03.357275Z"
    },
    "papermill": {
     "duration": 1.075117,
     "end_time": "2023-07-14T16:47:07.523849",
     "exception": false,
     "start_time": "2023-07-14T16:47:06.448732",
     "status": "completed"
    },
    "tags": []
   },
   "outputs": [],
   "source": [
    "#msno.bar(loan_train)"
   ]
  },
  {
   "cell_type": "code",
   "execution_count": 97,
   "metadata": {
    "execution": {
     "iopub.execute_input": "2023-07-14T16:47:07.638884Z",
     "iopub.status.busy": "2023-07-14T16:47:07.637754Z",
     "iopub.status.idle": "2023-07-14T16:47:08.094025Z",
     "shell.execute_reply": "2023-07-14T16:47:08.094661Z",
     "shell.execute_reply.started": "2023-07-14T16:39:04.269141Z"
    },
    "papermill": {
     "duration": 0.515655,
     "end_time": "2023-07-14T16:47:08.094858",
     "exception": false,
     "start_time": "2023-07-14T16:47:07.579203",
     "status": "completed"
    },
    "tags": []
   },
   "outputs": [],
   "source": [
    "#msno.matrix(loan_train )\n"
   ]
  },
  {
   "cell_type": "code",
   "execution_count": 98,
   "metadata": {
    "execution": {
     "iopub.execute_input": "2023-07-14T16:47:08.218229Z",
     "iopub.status.busy": "2023-07-14T16:47:08.217120Z",
     "iopub.status.idle": "2023-07-14T16:47:08.228506Z",
     "shell.execute_reply": "2023-07-14T16:47:08.229206Z",
     "shell.execute_reply.started": "2023-07-14T16:39:04.764138Z"
    },
    "papermill": {
     "duration": 0.075749,
     "end_time": "2023-07-14T16:47:08.229373",
     "exception": false,
     "start_time": "2023-07-14T16:47:08.153624",
     "status": "completed"
    },
    "tags": []
   },
   "outputs": [],
   "source": [
    "loan_train['Credit_History'].fillna(loan_train['Credit_History'].mode(), inplace=True) # Mode\n",
    "loan_test['Credit_History'].fillna(loan_test['Credit_History'].mode(), inplace=True) # Mode\n",
    "\n",
    "\n",
    "loan_train['LoanAmount'].fillna(loan_train['LoanAmount'].mean(), inplace=True) # Mean\n",
    "loan_test['LoanAmount'].fillna(loan_test['LoanAmount'].mean(), inplace=True) # Mean"
   ]
  },
  {
   "cell_type": "markdown",
   "metadata": {
    "papermill": {
     "duration": 0.059377,
     "end_time": "2023-07-14T16:47:08.347423",
     "exception": false,
     "start_time": "2023-07-14T16:47:08.288046",
     "status": "completed"
    },
    "tags": []
   },
   "source": [
    "`Loan_Status` feature boolean values, So we replace `Y` values with `1` and `N` values with `0`\n",
    "and same for other `Boolean` types of columns"
   ]
  },
  {
   "cell_type": "code",
   "execution_count": 99,
   "metadata": {
    "execution": {
     "iopub.execute_input": "2023-07-14T16:47:08.469481Z",
     "iopub.status.busy": "2023-07-14T16:47:08.468673Z",
     "iopub.status.idle": "2023-07-14T16:47:08.490442Z",
     "shell.execute_reply": "2023-07-14T16:47:08.489625Z",
     "shell.execute_reply.started": "2023-07-14T16:39:04.786963Z"
    },
    "papermill": {
     "duration": 0.084409,
     "end_time": "2023-07-14T16:47:08.490574",
     "exception": false,
     "start_time": "2023-07-14T16:47:08.406165",
     "status": "completed"
    },
    "tags": []
   },
   "outputs": [],
   "source": [
    "loan_train.Loan_Status = loan_train.Loan_Status.replace({\"Y\": 1, \"N\" : 0})\n",
    "# loan_test.Loan_Status = loan_test.Loan_Status.replace({\"Y\": 1, \"N\" : 0}) \n",
    "\n",
    "loan_train.Gender = loan_train.Gender.replace({\"Male\": 1, \"Female\" : 0})\n",
    "loan_test.Gender = loan_test.Gender.replace({\"Male\": 1, \"Female\" : 0})\n",
    "\n",
    "loan_train.Married = loan_train.Married.replace({\"Yes\": 1, \"No\" : 0})\n",
    "loan_test.Married = loan_test.Married.replace({\"Yes\": 1, \"No\" : 0})\n",
    "\n",
    "loan_train.Self_Employed = loan_train.Self_Employed.replace({\"Yes\": 1, \"No\" : 0})\n",
    "loan_test.Self_Employed = loan_test.Self_Employed.replace({\"Yes\": 1, \"No\" : 0})\n"
   ]
  },
  {
   "cell_type": "code",
   "execution_count": 100,
   "metadata": {
    "execution": {
     "iopub.execute_input": "2023-07-14T16:47:08.623837Z",
     "iopub.status.busy": "2023-07-14T16:47:08.616587Z",
     "iopub.status.idle": "2023-07-14T16:47:08.630237Z",
     "shell.execute_reply": "2023-07-14T16:47:08.630830Z",
     "shell.execute_reply.started": "2023-07-14T16:39:04.816456Z"
    },
    "papermill": {
     "duration": 0.081928,
     "end_time": "2023-07-14T16:47:08.631025",
     "exception": false,
     "start_time": "2023-07-14T16:47:08.549097",
     "status": "completed"
    },
    "tags": []
   },
   "outputs": [],
   "source": [
    "\n",
    "loan_train['Gender'].fillna(loan_train['Gender'].mode()[0], inplace=True)\n",
    "loan_test['Gender'].fillna(loan_test['Gender'].mode()[0], inplace=True)\n",
    "\n",
    "loan_train['Dependents'].fillna(loan_train['Dependents'].mode()[0], inplace=True)\n",
    "loan_test['Dependents'].fillna(loan_test['Dependents'].mode()[0], inplace=True)\n",
    "\n",
    "loan_train['Married'].fillna(loan_train['Married'].mode()[0], inplace=True)\n",
    "loan_test['Married'].fillna(loan_test['Married'].mode()[0], inplace=True)\n",
    "\n",
    "loan_train['Credit_History'].fillna(loan_train['Credit_History'].mean(), inplace=True)\n",
    "loan_test['Credit_History'].fillna(loan_test['Credit_History'].mean(), inplace=True)\n"
   ]
  },
  {
   "cell_type": "markdown",
   "metadata": {
    "papermill": {
     "duration": 0.058812,
     "end_time": "2023-07-14T16:47:08.749686",
     "exception": false,
     "start_time": "2023-07-14T16:47:08.690874",
     "status": "completed"
    },
    "tags": []
   },
   "source": [
    "* Here, `Property_Area`, `Dependents` and `Education` has multiple values so now we can use `LabelEncoder` from `sklearn` package"
   ]
  },
  {
   "cell_type": "code",
   "execution_count": 101,
   "metadata": {
    "execution": {
     "iopub.execute_input": "2023-07-14T16:47:08.873134Z",
     "iopub.status.busy": "2023-07-14T16:47:08.872004Z",
     "iopub.status.idle": "2023-07-14T16:47:08.940064Z",
     "shell.execute_reply": "2023-07-14T16:47:08.939243Z",
     "shell.execute_reply.started": "2023-07-14T16:39:04.841906Z"
    },
    "papermill": {
     "duration": 0.131284,
     "end_time": "2023-07-14T16:47:08.940202",
     "exception": false,
     "start_time": "2023-07-14T16:47:08.808918",
     "status": "completed"
    },
    "tags": []
   },
   "outputs": [],
   "source": [
    "from sklearn.preprocessing import LabelEncoder\n",
    "feature_col = ['Property_Area','Education', 'Dependents']\n",
    "le = LabelEncoder()\n",
    "for col in feature_col:\n",
    "    loan_train[col] = le.fit_transform(loan_train[col])\n",
    "    loan_test[col] = le.fit_transform(loan_test[col])"
   ]
  },
  {
   "cell_type": "markdown",
   "metadata": {
    "papermill": {
     "duration": 0.060521,
     "end_time": "2023-07-14T16:47:09.059004",
     "exception": false,
     "start_time": "2023-07-14T16:47:08.998483",
     "status": "completed"
    },
    "tags": []
   },
   "source": [
    "<a id=\"3\"></a><br>\n",
    "# 3. Data Visualizations\n",
    "\n",
    "\n",
    "In this section, We are showing the visual information from the dataset, For that we need some pakages that are `matplotlib` and `seaborn`\n",
    "\n"
   ]
  },
  {
   "cell_type": "code",
   "execution_count": 102,
   "metadata": {
    "execution": {
     "iopub.execute_input": "2023-07-14T16:47:09.185132Z",
     "iopub.status.busy": "2023-07-14T16:47:09.184052Z",
     "iopub.status.idle": "2023-07-14T16:47:09.187281Z",
     "shell.execute_reply": "2023-07-14T16:47:09.186606Z",
     "shell.execute_reply.started": "2023-07-14T16:39:04.934525Z"
    },
    "papermill": {
     "duration": 0.070345,
     "end_time": "2023-07-14T16:47:09.187427",
     "exception": false,
     "start_time": "2023-07-14T16:47:09.117082",
     "status": "completed"
    },
    "tags": []
   },
   "outputs": [],
   "source": [
    "import matplotlib.pyplot as plt\n",
    "%matplotlib inline\n",
    "\n",
    "\n",
    "import seaborn as sns\n",
    "sns.set_style('dark')\n"
   ]
  },
  {
   "cell_type": "code",
   "execution_count": 103,
   "metadata": {
    "execution": {
     "iopub.execute_input": "2023-07-14T16:47:09.307729Z",
     "iopub.status.busy": "2023-07-14T16:47:09.306981Z",
     "iopub.status.idle": "2023-07-14T16:47:09.339323Z",
     "shell.execute_reply": "2023-07-14T16:47:09.339888Z",
     "shell.execute_reply.started": "2023-07-14T16:39:04.953561Z"
    },
    "papermill": {
     "duration": 0.094246,
     "end_time": "2023-07-14T16:47:09.340098",
     "exception": false,
     "start_time": "2023-07-14T16:47:09.245852",
     "status": "completed"
    },
    "tags": []
   },
   "outputs": [
    {
     "data": {
      "text/html": [
       "<div>\n",
       "<style scoped>\n",
       "    .dataframe tbody tr th:only-of-type {\n",
       "        vertical-align: middle;\n",
       "    }\n",
       "\n",
       "    .dataframe tbody tr th {\n",
       "        vertical-align: top;\n",
       "    }\n",
       "\n",
       "    .dataframe thead th {\n",
       "        text-align: right;\n",
       "    }\n",
       "</style>\n",
       "<table border=\"1\" class=\"dataframe\">\n",
       "  <thead>\n",
       "    <tr style=\"text-align: right;\">\n",
       "      <th></th>\n",
       "      <th>Loan_ID</th>\n",
       "      <th>Gender</th>\n",
       "      <th>Married</th>\n",
       "      <th>Dependents</th>\n",
       "      <th>Education</th>\n",
       "      <th>Self_Employed</th>\n",
       "      <th>ApplicantIncome</th>\n",
       "      <th>CoapplicantIncome</th>\n",
       "      <th>LoanAmount</th>\n",
       "      <th>Loan_Amount_Term</th>\n",
       "      <th>Credit_History</th>\n",
       "      <th>Property_Area</th>\n",
       "      <th>Loan_Status</th>\n",
       "    </tr>\n",
       "  </thead>\n",
       "  <tbody>\n",
       "    <tr>\n",
       "      <th>0</th>\n",
       "      <td>LP001002</td>\n",
       "      <td>1.0</td>\n",
       "      <td>0.0</td>\n",
       "      <td>0</td>\n",
       "      <td>0</td>\n",
       "      <td>0.0</td>\n",
       "      <td>4.80</td>\n",
       "      <td>0.0</td>\n",
       "      <td>98.447538</td>\n",
       "      <td>360.0</td>\n",
       "      <td>1.0</td>\n",
       "      <td>2</td>\n",
       "      <td>1</td>\n",
       "    </tr>\n",
       "    <tr>\n",
       "      <th>1</th>\n",
       "      <td>LP001003</td>\n",
       "      <td>1.0</td>\n",
       "      <td>1.0</td>\n",
       "      <td>1</td>\n",
       "      <td>0</td>\n",
       "      <td>0.0</td>\n",
       "      <td>3.76</td>\n",
       "      <td>1508.0</td>\n",
       "      <td>86.067200</td>\n",
       "      <td>360.0</td>\n",
       "      <td>1.0</td>\n",
       "      <td>0</td>\n",
       "      <td>0</td>\n",
       "    </tr>\n",
       "    <tr>\n",
       "      <th>2</th>\n",
       "      <td>LP001005</td>\n",
       "      <td>1.0</td>\n",
       "      <td>1.0</td>\n",
       "      <td>0</td>\n",
       "      <td>0</td>\n",
       "      <td>1.0</td>\n",
       "      <td>2.46</td>\n",
       "      <td>0.0</td>\n",
       "      <td>44.378400</td>\n",
       "      <td>360.0</td>\n",
       "      <td>1.0</td>\n",
       "      <td>2</td>\n",
       "      <td>1</td>\n",
       "    </tr>\n",
       "    <tr>\n",
       "      <th>3</th>\n",
       "      <td>LP001006</td>\n",
       "      <td>1.0</td>\n",
       "      <td>1.0</td>\n",
       "      <td>0</td>\n",
       "      <td>1</td>\n",
       "      <td>0.0</td>\n",
       "      <td>2.12</td>\n",
       "      <td>2358.0</td>\n",
       "      <td>80.688000</td>\n",
       "      <td>360.0</td>\n",
       "      <td>1.0</td>\n",
       "      <td>2</td>\n",
       "      <td>1</td>\n",
       "    </tr>\n",
       "    <tr>\n",
       "      <th>4</th>\n",
       "      <td>LP001008</td>\n",
       "      <td>1.0</td>\n",
       "      <td>0.0</td>\n",
       "      <td>0</td>\n",
       "      <td>0</td>\n",
       "      <td>0.0</td>\n",
       "      <td>4.92</td>\n",
       "      <td>0.0</td>\n",
       "      <td>94.808400</td>\n",
       "      <td>360.0</td>\n",
       "      <td>1.0</td>\n",
       "      <td>2</td>\n",
       "      <td>1</td>\n",
       "    </tr>\n",
       "    <tr>\n",
       "      <th>...</th>\n",
       "      <td>...</td>\n",
       "      <td>...</td>\n",
       "      <td>...</td>\n",
       "      <td>...</td>\n",
       "      <td>...</td>\n",
       "      <td>...</td>\n",
       "      <td>...</td>\n",
       "      <td>...</td>\n",
       "      <td>...</td>\n",
       "      <td>...</td>\n",
       "      <td>...</td>\n",
       "      <td>...</td>\n",
       "      <td>...</td>\n",
       "    </tr>\n",
       "    <tr>\n",
       "      <th>609</th>\n",
       "      <td>LP002978</td>\n",
       "      <td>0.0</td>\n",
       "      <td>0.0</td>\n",
       "      <td>0</td>\n",
       "      <td>0</td>\n",
       "      <td>0.0</td>\n",
       "      <td>2.38</td>\n",
       "      <td>0.0</td>\n",
       "      <td>47.740400</td>\n",
       "      <td>360.0</td>\n",
       "      <td>1.0</td>\n",
       "      <td>0</td>\n",
       "      <td>1</td>\n",
       "    </tr>\n",
       "    <tr>\n",
       "      <th>610</th>\n",
       "      <td>LP002979</td>\n",
       "      <td>1.0</td>\n",
       "      <td>1.0</td>\n",
       "      <td>3</td>\n",
       "      <td>0</td>\n",
       "      <td>0.0</td>\n",
       "      <td>3.37</td>\n",
       "      <td>0.0</td>\n",
       "      <td>26.896000</td>\n",
       "      <td>180.0</td>\n",
       "      <td>1.0</td>\n",
       "      <td>0</td>\n",
       "      <td>1</td>\n",
       "    </tr>\n",
       "    <tr>\n",
       "      <th>611</th>\n",
       "      <td>LP002983</td>\n",
       "      <td>1.0</td>\n",
       "      <td>1.0</td>\n",
       "      <td>1</td>\n",
       "      <td>0</td>\n",
       "      <td>0.0</td>\n",
       "      <td>6.62</td>\n",
       "      <td>240.0</td>\n",
       "      <td>170.117200</td>\n",
       "      <td>360.0</td>\n",
       "      <td>1.0</td>\n",
       "      <td>2</td>\n",
       "      <td>1</td>\n",
       "    </tr>\n",
       "    <tr>\n",
       "      <th>612</th>\n",
       "      <td>LP002984</td>\n",
       "      <td>1.0</td>\n",
       "      <td>1.0</td>\n",
       "      <td>2</td>\n",
       "      <td>0</td>\n",
       "      <td>0.0</td>\n",
       "      <td>6.22</td>\n",
       "      <td>0.0</td>\n",
       "      <td>125.738800</td>\n",
       "      <td>360.0</td>\n",
       "      <td>1.0</td>\n",
       "      <td>2</td>\n",
       "      <td>1</td>\n",
       "    </tr>\n",
       "    <tr>\n",
       "      <th>613</th>\n",
       "      <td>LP002990</td>\n",
       "      <td>0.0</td>\n",
       "      <td>0.0</td>\n",
       "      <td>0</td>\n",
       "      <td>0</td>\n",
       "      <td>1.0</td>\n",
       "      <td>3.76</td>\n",
       "      <td>0.0</td>\n",
       "      <td>89.429200</td>\n",
       "      <td>360.0</td>\n",
       "      <td>0.0</td>\n",
       "      <td>1</td>\n",
       "      <td>0</td>\n",
       "    </tr>\n",
       "  </tbody>\n",
       "</table>\n",
       "<p>614 rows × 13 columns</p>\n",
       "</div>"
      ],
      "text/plain": [
       "      Loan_ID  Gender  Married  Dependents  Education  Self_Employed  \\\n",
       "0    LP001002     1.0      0.0           0          0            0.0   \n",
       "1    LP001003     1.0      1.0           1          0            0.0   \n",
       "2    LP001005     1.0      1.0           0          0            1.0   \n",
       "3    LP001006     1.0      1.0           0          1            0.0   \n",
       "4    LP001008     1.0      0.0           0          0            0.0   \n",
       "..        ...     ...      ...         ...        ...            ...   \n",
       "609  LP002978     0.0      0.0           0          0            0.0   \n",
       "610  LP002979     1.0      1.0           3          0            0.0   \n",
       "611  LP002983     1.0      1.0           1          0            0.0   \n",
       "612  LP002984     1.0      1.0           2          0            0.0   \n",
       "613  LP002990     0.0      0.0           0          0            1.0   \n",
       "\n",
       "     ApplicantIncome  CoapplicantIncome  LoanAmount  Loan_Amount_Term  \\\n",
       "0               4.80                0.0   98.447538             360.0   \n",
       "1               3.76             1508.0   86.067200             360.0   \n",
       "2               2.46                0.0   44.378400             360.0   \n",
       "3               2.12             2358.0   80.688000             360.0   \n",
       "4               4.92                0.0   94.808400             360.0   \n",
       "..               ...                ...         ...               ...   \n",
       "609             2.38                0.0   47.740400             360.0   \n",
       "610             3.37                0.0   26.896000             180.0   \n",
       "611             6.62              240.0  170.117200             360.0   \n",
       "612             6.22                0.0  125.738800             360.0   \n",
       "613             3.76                0.0   89.429200             360.0   \n",
       "\n",
       "     Credit_History  Property_Area  Loan_Status  \n",
       "0               1.0              2            1  \n",
       "1               1.0              0            0  \n",
       "2               1.0              2            1  \n",
       "3               1.0              2            1  \n",
       "4               1.0              2            1  \n",
       "..              ...            ...          ...  \n",
       "609             1.0              0            1  \n",
       "610             1.0              0            1  \n",
       "611             1.0              2            1  \n",
       "612             1.0              2            1  \n",
       "613             0.0              1            0  \n",
       "\n",
       "[614 rows x 13 columns]"
      ]
     },
     "execution_count": 103,
     "metadata": {},
     "output_type": "execute_result"
    }
   ],
   "source": [
    "loan_train"
   ]
  },
  {
   "cell_type": "code",
   "execution_count": 104,
   "metadata": {
    "execution": {
     "iopub.execute_input": "2023-07-14T16:47:09.464661Z",
     "iopub.status.busy": "2023-07-14T16:47:09.463810Z",
     "iopub.status.idle": "2023-07-14T16:47:09.925988Z",
     "shell.execute_reply": "2023-07-14T16:47:09.926806Z",
     "shell.execute_reply.started": "2023-07-14T16:39:04.995022Z"
    },
    "papermill": {
     "duration": 0.527646,
     "end_time": "2023-07-14T16:47:09.927000",
     "exception": false,
     "start_time": "2023-07-14T16:47:09.399354",
     "status": "completed"
    },
    "tags": []
   },
   "outputs": [
    {
     "data": {
      "image/png": "[encoded data removed]",
      "text/plain": [
       "<Figure size 1800x800 with 1 Axes>"
      ]
     },
     "metadata": {},
     "output_type": "display_data"
    }
   ],
   "source": [
    "loan_train.plot(figsize=(18, 8))\n",
    "\n",
    "plt.show()"
   ]
  },
  {
   "cell_type": "code",
   "execution_count": 105,
   "metadata": {
    "execution": {
     "iopub.execute_input": "2023-07-14T16:47:10.060284Z",
     "iopub.status.busy": "2023-07-14T16:47:10.059176Z",
     "iopub.status.idle": "2023-07-14T16:47:10.795047Z",
     "shell.execute_reply": "2023-07-14T16:47:10.794402Z",
     "shell.execute_reply.started": "2023-07-14T16:39:05.447568Z"
    },
    "papermill": {
     "duration": 0.804456,
     "end_time": "2023-07-14T16:47:10.795194",
     "exception": false,
     "start_time": "2023-07-14T16:47:09.990738",
     "status": "completed"
    },
    "tags": []
   },
   "outputs": [
    {
     "data": {
      "image/png": "[encoded data removed]",
      "text/plain": [
       "<Figure size 1800x600 with 2 Axes>"
      ]
     },
     "metadata": {},
     "output_type": "display_data"
    }
   ],
   "source": [
    "plt.figure(figsize=(18, 6))\n",
    "plt.subplot(1, 2, 1)\n",
    "\n",
    "\n",
    "loan_train['ApplicantIncome'].hist(bins=10)\n",
    "plt.title(\"Loan Application Amount \")\n",
    "\n",
    "plt.subplot(1, 2, 2)\n",
    "plt.grid()\n",
    "plt.hist(np.log(loan_train['LoanAmount']))\n",
    "plt.title(\"Log Loan Application Amount \")\n",
    "\n",
    "plt.show()"
   ]
  },
  {
   "cell_type": "code",
   "execution_count": 106,
   "metadata": {
    "execution": {
     "iopub.execute_input": "2023-07-14T16:47:10.929852Z",
     "iopub.status.busy": "2023-07-14T16:47:10.928701Z",
     "iopub.status.idle": "2023-07-14T16:47:11.295014Z",
     "shell.execute_reply": "2023-07-14T16:47:11.295631Z",
     "shell.execute_reply.started": "2023-07-14T16:39:06.149050Z"
    },
    "papermill": {
     "duration": 0.436247,
     "end_time": "2023-07-14T16:47:11.295796",
     "exception": false,
     "start_time": "2023-07-14T16:47:10.859549",
     "status": "completed"
    },
    "tags": []
   },
   "outputs": [
    {
     "data": {
      "image/png": "[encoded data removed]",
      "text/plain": [
       "<Figure size 1800x600 with 1 Axes>"
      ]
     },
     "metadata": {},
     "output_type": "display_data"
    }
   ],
   "source": [
    "plt.figure(figsize=(18, 6))\n",
    "plt.title(\"Relation Between Applicatoin Income vs Loan Amount \")\n",
    "\n",
    "plt.grid()\n",
    "plt.scatter(loan_train['ApplicantIncome'] , loan_train['LoanAmount'], c='k', marker='x')\n",
    "plt.xlabel(\"Applicant Income\")\n",
    "plt.ylabel(\"Loan Amount\")\n",
    "plt.show()"
   ]
  },
  {
   "cell_type": "code",
   "execution_count": 107,
   "metadata": {
    "execution": {
     "iopub.execute_input": "2023-07-14T16:47:11.432636Z",
     "iopub.status.busy": "2023-07-14T16:47:11.431494Z",
     "iopub.status.idle": "2023-07-14T16:47:11.777310Z",
     "shell.execute_reply": "2023-07-14T16:47:11.777913Z",
     "shell.execute_reply.started": "2023-07-14T16:39:06.500291Z"
    },
    "papermill": {
     "duration": 0.41618,
     "end_time": "2023-07-14T16:47:11.778094",
     "exception": false,
     "start_time": "2023-07-14T16:47:11.361914",
     "status": "completed"
    },
    "tags": []
   },
   "outputs": [
    {
     "data": {
      "image/png": "[encoded data removed]",
      "text/plain": [
       "<Figure size 1200x600 with 1 Axes>"
      ]
     },
     "metadata": {},
     "output_type": "display_data"
    }
   ],
   "source": [
    "plt.figure(figsize=(12, 6))\n",
    "plt.plot(loan_train['Loan_Status'], loan_train['LoanAmount'])\n",
    "plt.title(\"Loan Application Amount \")\n",
    "plt.show()"
   ]
  },
  {
   "cell_type": "code",
   "execution_count": 108,
   "metadata": {
    "execution": {
     "iopub.execute_input": "2023-07-14T16:47:11.922456Z",
     "iopub.status.busy": "2023-07-14T16:47:11.921405Z",
     "iopub.status.idle": "2023-07-14T16:47:12.801182Z",
     "shell.execute_reply": "2023-07-14T16:47:12.801819Z",
     "shell.execute_reply.started": "2023-07-14T16:39:06.831231Z"
    },
    "papermill": {
     "duration": 0.953588,
     "end_time": "2023-07-14T16:47:12.802094",
     "exception": false,
     "start_time": "2023-07-14T16:47:11.848506",
     "status": "completed"
    },
    "tags": []
   },
   "outputs": [
    {
     "data": {
      "image/png": "[encoded data removed]",
      "text/plain": [
       "<Figure size 1200x800 with 2 Axes>"
      ]
     },
     "metadata": {},
     "output_type": "display_data"
    }
   ],
   "source": [
    "plt.figure(figsize=(12,8))\n",
    "sns.heatmap(loan_train.corr(), cmap='coolwarm', annot=True, fmt='.1f', linewidths=.1)\n",
    "plt.show()"
   ]
  },
  {
   "cell_type": "markdown",
   "metadata": {
    "papermill": {
     "duration": 0.072717,
     "end_time": "2023-07-14T16:47:12.948848",
     "exception": false,
     "start_time": "2023-07-14T16:47:12.876131",
     "status": "completed"
    },
    "tags": []
   },
   "source": [
    "In this heatmap, we can clearly seen the relation between two variables "
   ]
  },
  {
   "cell_type": "markdown",
   "metadata": {
    "papermill": {
     "duration": 0.071677,
     "end_time": "2023-07-14T16:47:13.093265",
     "exception": false,
     "start_time": "2023-07-14T16:47:13.021588",
     "status": "completed"
    },
    "tags": []
   },
   "source": [
    "<a id=\"4\"></a><br>\n",
    "# 4. Choose ML Model."
   ]
  },
  {
   "cell_type": "code",
   "execution_count": 109,
   "metadata": {
    "execution": {
     "iopub.execute_input": "2023-07-14T16:47:13.243488Z",
     "iopub.status.busy": "2023-07-14T16:47:13.242707Z",
     "iopub.status.idle": "2023-07-14T16:47:13.374438Z",
     "shell.execute_reply": "2023-07-14T16:47:13.373517Z",
     "shell.execute_reply.started": "2023-07-14T16:39:07.657853Z"
    },
    "papermill": {
     "duration": 0.209327,
     "end_time": "2023-07-14T16:47:13.374581",
     "exception": false,
     "start_time": "2023-07-14T16:47:13.165254",
     "status": "completed"
    },
    "tags": []
   },
   "outputs": [],
   "source": [
    "# import ml model from sklearn pacakge\n",
    "\n",
    "from sklearn.linear_model import LogisticRegression\n",
    "\n",
    "from sklearn.metrics import accuracy_score\n"
   ]
  },
  {
   "cell_type": "markdown",
   "metadata": {
    "papermill": {
     "duration": 0.072162,
     "end_time": "2023-07-14T16:47:13.520189",
     "exception": false,
     "start_time": "2023-07-14T16:47:13.448027",
     "status": "completed"
    },
    "tags": []
   },
   "source": [
    "* Let's build the model"
   ]
  },
  {
   "cell_type": "code",
   "execution_count": 110,
   "metadata": {
    "execution": {
     "iopub.execute_input": "2023-07-14T16:47:13.672710Z",
     "iopub.status.busy": "2023-07-14T16:47:13.671585Z",
     "iopub.status.idle": "2023-07-14T16:47:13.676988Z",
     "shell.execute_reply": "2023-07-14T16:47:13.677658Z",
     "shell.execute_reply.started": "2023-07-14T16:39:07.810455Z"
    },
    "papermill": {
     "duration": 0.085259,
     "end_time": "2023-07-14T16:47:13.677823",
     "exception": false,
     "start_time": "2023-07-14T16:47:13.592564",
     "status": "completed"
    },
    "tags": []
   },
   "outputs": [],
   "source": [
    "logistic_model = LogisticRegression()"
   ]
  },
  {
   "cell_type": "markdown",
   "metadata": {
    "papermill": {
     "duration": 0.072102,
     "end_time": "2023-07-14T16:47:13.822482",
     "exception": false,
     "start_time": "2023-07-14T16:47:13.750380",
     "status": "completed"
    },
    "tags": []
   },
   "source": [
    "<a id=\"5\"></a><br>\n",
    "# 5. Traing the ML Model"
   ]
  },
  {
   "cell_type": "code",
   "execution_count": 124,
   "metadata": {
    "execution": {
     "iopub.execute_input": "2023-07-14T16:47:13.977254Z",
     "iopub.status.busy": "2023-07-14T16:47:13.976160Z",
     "iopub.status.idle": "2023-07-14T16:47:13.979804Z",
     "shell.execute_reply": "2023-07-14T16:47:13.980420Z",
     "shell.execute_reply.started": "2023-07-14T16:39:07.823963Z"
    },
    "papermill": {
     "duration": 0.085169,
     "end_time": "2023-07-14T16:47:13.980582",
     "exception": false,
     "start_time": "2023-07-14T16:47:13.895413",
     "status": "completed"
    },
    "tags": []
   },
   "outputs": [],
   "source": [
    "train_features = ['Credit_History', 'Education', 'Gender','LoanAmount','ApplicantIncome']\n",
    "\n",
    "x_train = loan_train[train_features].values\n",
    "y_train = loan_train['Loan_Status'].values\n",
    "\n",
    "x_test = loan_test[train_features].values\n"
   ]
  },
  {
   "cell_type": "code",
   "execution_count": 125,
   "metadata": {},
   "outputs": [
    {
     "data": {
      "text/plain": [
       "array([[ 1.        ,  0.        ,  1.        , 80.05925838,  4.6904    ],\n",
       "       [ 1.        ,  0.        ,  1.        , 70.575104  ,  2.52232   ],\n",
       "       [ 1.        ,  0.        ,  1.        , 36.390288  ,  4.1       ],\n",
       "       ...,\n",
       "       [ 0.82544379,  0.        ,  1.        , 77.742888  ,  2.665     ],\n",
       "       [ 1.        ,  0.        ,  1.        , 73.331944  ,  4.1       ],\n",
       "       [ 1.        ,  0.        ,  1.        , 52.931328  ,  7.544     ]])"
      ]
     },
     "execution_count": 125,
     "metadata": {},
     "output_type": "execute_result"
    }
   ],
   "source": [
    "x_test"
   ]
  },
  {
   "cell_type": "code",
   "execution_count": 112,
   "metadata": {
    "execution": {
     "iopub.execute_input": "2023-07-14T16:47:14.131997Z",
     "iopub.status.busy": "2023-07-14T16:47:14.130870Z",
     "iopub.status.idle": "2023-07-14T16:47:14.150976Z",
     "shell.execute_reply": "2023-07-14T16:47:14.151656Z",
     "shell.execute_reply.started": "2023-07-14T16:39:07.844196Z"
    },
    "papermill": {
     "duration": 0.097646,
     "end_time": "2023-07-14T16:47:14.151854",
     "exception": false,
     "start_time": "2023-07-14T16:47:14.054208",
     "status": "completed"
    },
    "tags": []
   },
   "outputs": [
    {
     "data": {
      "text/html": [
       "<style>#sk-container-id-5 {color: black;background-color: white;}#sk-container-id-5 pre{padding: 0;}#sk-container-id-5 div.sk-toggleable {background-color: white;}#sk-container-id-5 label.sk-toggleable__label {cursor: pointer;display: block;width: 100%;margin-bottom: 0;padding: 0.3em;box-sizing: border-box;text-align: center;}#sk-container-id-5 label.sk-toggleable__label-arrow:before {content: \"▸\";float: left;margin-right: 0.25em;color: #696969;}#sk-container-id-5 label.sk-toggleable__label-arrow:hover:before {color: black;}#sk-container-id-5 div.sk-estimator:hover label.sk-toggleable__label-arrow:before {color: black;}#sk-container-id-5 div.sk-toggleable__content {max-height: 0;max-width: 0;overflow: hidden;text-align: left;background-color: #f0f8ff;}#sk-container-id-5 div.sk-toggleable__content pre {margin: 0.2em;color: black;border-radius: 0.25em;background-color: #f0f8ff;}#sk-container-id-5 input.sk-toggleable__control:checked~div.sk-toggleable__content {max-height: 200px;max-width: 100%;overflow: auto;}#sk-container-id-5 input.sk-toggleable__control:checked~label.sk-toggleable__label-arrow:before {content: \"▾\";}#sk-container-id-5 div.sk-estimator input.sk-toggleable__control:checked~label.sk-toggleable__label {background-color: #d4ebff;}#sk-container-id-5 div.sk-label input.sk-toggleable__control:checked~label.sk-toggleable__label {background-color: #d4ebff;}#sk-container-id-5 input.sk-hidden--visually {border: 0;clip: rect(1px 1px 1px 1px);clip: rect(1px, 1px, 1px, 1px);height: 1px;margin: -1px;overflow: hidden;padding: 0;position: absolute;width: 1px;}#sk-container-id-5 div.sk-estimator {font-family: monospace;background-color: #f0f8ff;border: 1px dotted black;border-radius: 0.25em;box-sizing: border-box;margin-bottom: 0.5em;}#sk-container-id-5 div.sk-estimator:hover {background-color: #d4ebff;}#sk-container-id-5 div.sk-parallel-item::after {content: \"\";width: 100%;border-bottom: 1px solid gray;flex-grow: 1;}#sk-container-id-5 div.sk-label:hover label.sk-toggleable__label {background-color: #d4ebff;}#sk-container-id-5 div.sk-serial::before {content: \"\";position: absolute;border-left: 1px solid gray;box-sizing: border-box;top: 0;bottom: 0;left: 50%;z-index: 0;}#sk-container-id-5 div.sk-serial {display: flex;flex-direction: column;align-items: center;background-color: white;padding-right: 0.2em;padding-left: 0.2em;position: relative;}#sk-container-id-5 div.sk-item {position: relative;z-index: 1;}#sk-container-id-5 div.sk-parallel {display: flex;align-items: stretch;justify-content: center;background-color: white;position: relative;}#sk-container-id-5 div.sk-item::before, #sk-container-id-5 div.sk-parallel-item::before {content: \"\";position: absolute;border-left: 1px solid gray;box-sizing: border-box;top: 0;bottom: 0;left: 50%;z-index: -1;}#sk-container-id-5 div.sk-parallel-item {display: flex;flex-direction: column;z-index: 1;position: relative;background-color: white;}#sk-container-id-5 div.sk-parallel-item:first-child::after {align-self: flex-end;width: 50%;}#sk-container-id-5 div.sk-parallel-item:last-child::after {align-self: flex-start;width: 50%;}#sk-container-id-5 div.sk-parallel-item:only-child::after {width: 0;}#sk-container-id-5 div.sk-dashed-wrapped {border: 1px dashed gray;margin: 0 0.4em 0.5em 0.4em;box-sizing: border-box;padding-bottom: 0.4em;background-color: white;}#sk-container-id-5 div.sk-label label {font-family: monospace;font-weight: bold;display: inline-block;line-height: 1.2em;}#sk-container-id-5 div.sk-label-container {text-align: center;}#sk-container-id-5 div.sk-container {/* jupyter's `normalize.less` sets `[hidden] { display: none; }` but bootstrap.min.css set `[hidden] { display: none !important; }` so we also need the `!important` here to be able to override the default hidden behavior on the sphinx rendered scikit-learn.org. See: https://github.com/scikit-learn/scikit-learn/issues/21755 */display: inline-block !important;position: relative;}#sk-container-id-5 div.sk-text-repr-fallback {display: none;}</style><div id=\"sk-container-id-5\" class=\"sk-top-container\"><div class=\"sk-text-repr-fallback\"><pre>LogisticRegression()</pre><b>In a Jupyter environment, please rerun this cell to show the HTML representation or trust the notebook. <br />On GitHub, the HTML representation is unable to render, please try loading this page with nbviewer.org.</b></div><div class=\"sk-container\" hidden><div class=\"sk-item\"><div class=\"sk-estimator sk-toggleable\"><input class=\"sk-toggleable__control sk-hidden--visually\" id=\"sk-estimator-id-5\" type=\"checkbox\" checked><label for=\"sk-estimator-id-5\" class=\"sk-toggleable__label sk-toggleable__label-arrow\">LogisticRegression</label><div class=\"sk-toggleable__content\"><pre>LogisticRegression()</pre></div></div></div></div></div>"
      ],
      "text/plain": [
       "LogisticRegression()"
      ]
     },
     "execution_count": 112,
     "metadata": {},
     "output_type": "execute_result"
    }
   ],
   "source": [
    "logistic_model.fit(x_train, y_train)"
   ]
  },
  {
   "cell_type": "code",
   "execution_count": null,
   "metadata": {
    "papermill": {
     "duration": 0.072713,
     "end_time": "2023-07-14T16:47:14.304474",
     "exception": false,
     "start_time": "2023-07-14T16:47:14.231761",
     "status": "completed"
    },
    "tags": []
   },
   "outputs": [],
   "source": []
  },
  {
   "cell_type": "markdown",
   "metadata": {
    "papermill": {
     "duration": 0.072601,
     "end_time": "2023-07-14T16:47:14.450046",
     "exception": false,
     "start_time": "2023-07-14T16:47:14.377445",
     "status": "completed"
    },
    "tags": []
   },
   "source": [
    " # 6. Predict Model"
   ]
  },
  {
   "cell_type": "code",
   "execution_count": 113,
   "metadata": {
    "execution": {
     "iopub.execute_input": "2023-07-14T16:47:14.653537Z",
     "iopub.status.busy": "2023-07-14T16:47:14.652374Z",
     "iopub.status.idle": "2023-07-14T16:47:14.656196Z",
     "shell.execute_reply": "2023-07-14T16:47:14.655468Z",
     "shell.execute_reply.started": "2023-07-14T16:39:07.870642Z"
    },
    "papermill": {
     "duration": 0.133637,
     "end_time": "2023-07-14T16:47:14.656374",
     "exception": false,
     "start_time": "2023-07-14T16:47:14.522737",
     "status": "completed"
    },
    "tags": []
   },
   "outputs": [],
   "source": [
    "# Predict the model for testin data\n",
    "\n",
    "predicted = logistic_model.predict(x_test)\n"
   ]
  },
  {
   "cell_type": "code",
   "execution_count": 114,
   "metadata": {
    "execution": {
     "iopub.execute_input": "2023-07-14T16:47:14.809537Z",
     "iopub.status.busy": "2023-07-14T16:47:14.808725Z",
     "iopub.status.idle": "2023-07-14T16:47:14.814729Z",
     "shell.execute_reply": "2023-07-14T16:47:14.813977Z",
     "shell.execute_reply.started": "2023-07-14T16:39:07.885198Z"
    },
    "papermill": {
     "duration": 0.083995,
     "end_time": "2023-07-14T16:47:14.814860",
     "exception": false,
     "start_time": "2023-07-14T16:47:14.730865",
     "status": "completed"
    },
    "tags": []
   },
   "outputs": [
    {
     "name": "stdout",
     "output_type": "stream",
     "text": [
      "Coefficient of model : [[ 3.32249305e+00 -3.50871059e-01  1.27226326e-01 -2.95060374e-03\n",
      "   1.71886414e-02]]\n"
     ]
    }
   ],
   "source": [
    "# check the coefficeints of the trained model\n",
    "print('Coefficient of model :', logistic_model.coef_)\n"
   ]
  },
  {
   "cell_type": "code",
   "execution_count": 115,
   "metadata": {
    "execution": {
     "iopub.execute_input": "2023-07-14T16:47:14.969612Z",
     "iopub.status.busy": "2023-07-14T16:47:14.968821Z",
     "iopub.status.idle": "2023-07-14T16:47:14.973009Z",
     "shell.execute_reply": "2023-07-14T16:47:14.973639Z",
     "shell.execute_reply.started": "2023-07-14T16:39:07.901219Z"
    },
    "papermill": {
     "duration": 0.084299,
     "end_time": "2023-07-14T16:47:14.973799",
     "exception": false,
     "start_time": "2023-07-14T16:47:14.889500",
     "status": "completed"
    },
    "tags": []
   },
   "outputs": [
    {
     "name": "stdout",
     "output_type": "stream",
     "text": [
      "Intercept of model [-1.78721379]\n"
     ]
    }
   ],
   "source": [
    "# check the intercept of the model\n",
    "print('Intercept of model',logistic_model.intercept_)"
   ]
  },
  {
   "cell_type": "code",
   "execution_count": 116,
   "metadata": {
    "execution": {
     "iopub.execute_input": "2023-07-14T16:47:15.130027Z",
     "iopub.status.busy": "2023-07-14T16:47:15.129273Z",
     "iopub.status.idle": "2023-07-14T16:47:15.133794Z",
     "shell.execute_reply": "2023-07-14T16:47:15.134522Z",
     "shell.execute_reply.started": "2023-07-14T16:39:07.914185Z"
    },
    "papermill": {
     "duration": 0.084329,
     "end_time": "2023-07-14T16:47:15.134677",
     "exception": false,
     "start_time": "2023-07-14T16:47:15.050348",
     "status": "completed"
    },
    "tags": []
   },
   "outputs": [
    {
     "name": "stdout",
     "output_type": "stream",
     "text": [
      "accuracy_score overall : 0.8094462540716613\n",
      "accuracy_score percent : 80.94\n"
     ]
    }
   ],
   "source": [
    "# Accuray Score on train dataset\n",
    "# accuracy_train = accuracy_score(x_test, predicted)\n",
    "score = logistic_model.score(x_train, y_train)\n",
    "print('accuracy_score overall :', score)\n",
    "print('accuracy_score percent :', round(score*100,2))\n"
   ]
  },
  {
   "cell_type": "code",
   "execution_count": 117,
   "metadata": {
    "execution": {
     "iopub.execute_input": "2023-07-14T16:47:15.288290Z",
     "iopub.status.busy": "2023-07-14T16:47:15.287527Z",
     "iopub.status.idle": "2023-07-14T16:47:15.295671Z",
     "shell.execute_reply": "2023-07-14T16:47:15.295044Z",
     "shell.execute_reply.started": "2023-07-14T16:39:07.932565Z"
    },
    "papermill": {
     "duration": 0.085948,
     "end_time": "2023-07-14T16:47:15.295796",
     "exception": false,
     "start_time": "2023-07-14T16:47:15.209848",
     "status": "completed"
    },
    "tags": []
   },
   "outputs": [
    {
     "name": "stdout",
     "output_type": "stream",
     "text": [
      "Target on test data [1 1 1 1 1 1 1 0 1 1 1 1 1 0 1 1 1 1 1 1 1 1 1 1 1 0 1 1 1 1 1 1 1 1 1 0 1\n",
      " 1 1 1 1 1 1 1 1 1 1 1 1 1 1 1 1 1 1 0 1 1 0 1 1 1 1 0 1 1 0 0 1 0 1 1 1 1\n",
      " 1 1 1 1 1 1 0 1 0 1 0 1 1 1 1 1 1 1 1 1 0 1 1 1 1 1 1 0 1 1 1 1 0 1 1 1 1\n",
      " 1 1 1 1 1 1 0 0 0 1 1 1 0 0 1 0 1 1 1 1 1 1 1 1 1 1 1 1 1 0 1 0 1 1 1 1 0\n",
      " 1 1 1 1 1 0 1 1 1 1 1 1 1 0 1 1 1 0 0 1 0 1 1 1 1 0 0 1 1 1 1 1 1 1 1 1 1\n",
      " 1 1 1 1 1 1 1 0 0 1 1 0 1 0 1 1 1 1 1 1 1 1 1 1 1 1 0 1 1 1 1 1 1 1 1 1 1\n",
      " 1 1 0 1 1 1 1 0 1 1 1 1 1 0 0 1 1 1 1 0 1 0 1 0 1 1 1 1 0 1 1 1 1 0 1 1 1\n",
      " 1 1 1 1 1 1 1 0 1 0 1 1 1 1 0 0 1 1 1 0 1 1 1 1 1 1 1 1 1 1 1 1 1 1 0 1 1\n",
      " 1 1 1 1 1 0 1 1 1 1 1 1 1 1 1 0 1 1 1 1 1 0 1 1 1 1 1 1 1 0 1 1 1 1 1 1 1\n",
      " 1 1 1 1 1 1 0 1 1 1 1 1 1 0 1 1 1 1 1 1 1 0 1 1 1 1 1 1 1 1 1 1 1 1]\n"
     ]
    }
   ],
   "source": [
    "\n",
    "# predict the target on the test dataset\n",
    "predict_test = logistic_model.predict(x_test)\n",
    "print('Target on test data',predict_test) \n"
   ]
  },
  {
   "cell_type": "code",
   "execution_count": 129,
   "metadata": {},
   "outputs": [
    {
     "name": "stdout",
     "output_type": "stream",
     "text": [
      "1.0\n"
     ]
    }
   ],
   "source": [
    "# Lets try Randon forest also\n",
    "from sklearn.ensemble import RandomForestClassifier\n",
    "rf=RandomForestClassifier()\n",
    "rf.fit(x_train,y_train)\n",
    "\n",
    "y_pred_test=rf.predict(x_test) \n",
    "print(rf.score(x_train,y_train))\n"
   ]
  },
  {
   "cell_type": "markdown",
   "metadata": {
    "papermill": {
     "duration": 0.074632,
     "end_time": "2023-07-14T16:47:15.445850",
     "exception": false,
     "start_time": "2023-07-14T16:47:15.371218",
     "status": "completed"
    },
    "tags": []
   },
   "source": [
    "<a id=\"7\"></a><br>\n",
    "# 7. Deploy Model"
   ]
  },
  {
   "cell_type": "code",
   "execution_count": 118,
   "metadata": {
    "execution": {
     "iopub.execute_input": "2023-07-14T16:47:15.601516Z",
     "iopub.status.busy": "2023-07-14T16:47:15.600584Z",
     "iopub.status.idle": "2023-07-14T16:47:15.603892Z",
     "shell.execute_reply": "2023-07-14T16:47:15.603259Z",
     "shell.execute_reply.started": "2023-07-14T16:39:07.948392Z"
    },
    "papermill": {
     "duration": 0.082889,
     "end_time": "2023-07-14T16:47:15.604050",
     "exception": false,
     "start_time": "2023-07-14T16:47:15.521161",
     "status": "completed"
    },
    "tags": []
   },
   "outputs": [],
   "source": [
    "import pickle as pkl"
   ]
  },
  {
   "cell_type": "code",
   "execution_count": 119,
   "metadata": {
    "execution": {
     "iopub.execute_input": "2023-07-14T16:47:15.760396Z",
     "iopub.status.busy": "2023-07-14T16:47:15.759586Z",
     "iopub.status.idle": "2023-07-14T16:47:15.762870Z",
     "shell.execute_reply": "2023-07-14T16:47:15.762118Z",
     "shell.execute_reply.started": "2023-07-14T16:39:07.959221Z"
    },
    "papermill": {
     "duration": 0.083926,
     "end_time": "2023-07-14T16:47:15.763021",
     "exception": false,
     "start_time": "2023-07-14T16:47:15.679095",
     "status": "completed"
    },
    "tags": []
   },
   "outputs": [],
   "source": [
    "# save the model to disk\n",
    "filename = 'logistic_model.pkl'\n",
    "pkl.dump(logistic_model, open(filename, 'wb')) # wb means write as binary\n",
    "\n",
    "\n"
   ]
  }
 ],
 "metadata": {
  "kernelspec": {
   "display_name": "Python 3 (ipykernel)",
   "language": "python",
   "name": "python3"
  },
  "language_info": {
   "codemirror_mode": {
    "name": "ipython",
    "version": 3
   },
   "file_extension": ".py",
   "mimetype": "text/x-python",
   "name": "python",
   "nbconvert_exporter": "python",
   "pygments_lexer": "ipython3",
   "version": "3.9.13"
  },
  "papermill": {
   "duration": 17.669718,
   "end_time": "2023-07-14T16:47:15.945263",
   "environment_variables": {},
   "exception": null,
   "input_path": "__notebook__.ipynb",
   "output_path": "__notebook__.ipynb",
   "parameters": {},
   "start_time": "2023-07-14T16:46:58.275545",
   "version": "2.1.0"
  }
 },
 "nbformat": 4,
 "nbformat_minor": 4
}
